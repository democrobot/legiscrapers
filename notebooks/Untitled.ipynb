{
 "cells": [
  {
   "cell_type": "code",
   "execution_count": 12,
   "id": "6c87ca3c-4e8e-4bc0-9cc2-c5d5f56ee2c8",
   "metadata": {},
   "outputs": [],
   "source": [
    "from openpyxl import load_workbook"
   ]
  },
  {
   "cell_type": "code",
   "execution_count": 43,
   "id": "7650b34e-c451-4052-90f5-298607c412f5",
   "metadata": {},
   "outputs": [],
   "source": [
    "wb = load_workbook('../data-archive/us/pa/state/general_assembly/2024_Senate_Members.xlsx')"
   ]
  },
  {
   "cell_type": "code",
   "execution_count": 44,
   "id": "6ebdcc7c-d9ff-4b63-aadf-fc548858d2b7",
   "metadata": {},
   "outputs": [
    {
     "data": {
      "text/plain": [
       "[<Worksheet \"Senate 2024 Members\">]"
      ]
     },
     "execution_count": 44,
     "metadata": {},
     "output_type": "execute_result"
    }
   ],
   "source": [
    "wb.worksheets"
   ]
  },
  {
   "cell_type": "code",
   "execution_count": 45,
   "id": "3b77a471-f050-4245-a1a4-d32022541ca6",
   "metadata": {},
   "outputs": [],
   "source": [
    "s = wb.active"
   ]
  },
  {
   "cell_type": "code",
   "execution_count": 46,
   "id": "18c88e5b-15bf-4ca1-bf5a-31d3931b8116",
   "metadata": {},
   "outputs": [
    {
     "name": "stdout",
     "output_type": "stream",
     "text": [
      "<Worksheet \"Senate 2024 Members\">\n"
     ]
    }
   ],
   "source": [
    "print(s)"
   ]
  },
  {
   "cell_type": "code",
   "execution_count": 47,
   "id": "a87301a3-6102-4f8d-ab42-b1f7b48c58c1",
   "metadata": {},
   "outputs": [
    {
     "name": "stdout",
     "output_type": "stream",
     "text": [
      "NAME;  DISTRICT;  FIRST ELECTED; ( SESSIONS)\n",
      "Aument, Ryan P.; 036; 2015; (2015, 2016, 2017, 2018, 2019, 2020, 2021, 2022, 2023, 2024)\n",
      "Brewster, James R.; 045; 2010; (2010, 2011, 2012, 2013, 2014, 2015, 2016, 2017, 2018, 2019, 2020, 2021, 2022, 2023, 2024)\n",
      "DiSanto, Giovanni \"John\" M.; 015; 2017; (2017, 2018, 2019, 2020, 2021, 2022, 2023, 2024)\n",
      "Dillon, James; 005; 2022; (2022, 2023, 2024)\n",
      "Regan, Michael R. “Mike”; 031; 2017; (2017, 2018, 2019, 2020, 2021, 2022, 2023, 2024)\n"
     ]
    }
   ],
   "source": [
    "for row in s.iter_rows():\n",
    "    name = row[0].value.strip()\n",
    "    birth_date = row[1].value\n",
    "    death_date = row[2].value\n",
    "    gender = row[3].value\n",
    "    party = row[4].value\n",
    "    district = row[5].value\n",
    "    date_first_elected = row[6].value\n",
    "    sessions = row[7].value\n",
    "    positions = row[8].value\n",
    "    photo = row[9].value\n",
    "    counties = row[10].value\n",
    "    biography = row[11].value\n",
    "    print(f'{name}; {district}; {date_first_elected}; ({sessions})')"
   ]
  },
  {
   "cell_type": "code",
   "execution_count": null,
   "id": "ea93c342-f520-4936-80b5-a82bfe02a1a5",
   "metadata": {},
   "outputs": [],
   "source": []
  }
 ],
 "metadata": {
  "kernelspec": {
   "display_name": "Python 3 (ipykernel)",
   "language": "python",
   "name": "python3"
  },
  "language_info": {
   "codemirror_mode": {
    "name": "ipython",
    "version": 3
   },
   "file_extension": ".py",
   "mimetype": "text/x-python",
   "name": "python",
   "nbconvert_exporter": "python",
   "pygments_lexer": "ipython3",
   "version": "3.11.2"
  }
 },
 "nbformat": 4,
 "nbformat_minor": 5
}
