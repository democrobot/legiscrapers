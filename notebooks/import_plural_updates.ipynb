{
 "cells": [
  {
   "cell_type": "code",
   "execution_count": 11,
   "id": "15e79235-4d27-439a-8de1-2c74119b7399",
   "metadata": {},
   "outputs": [],
   "source": [
    "import json\n",
    "import psycopg"
   ]
  },
  {
   "cell_type": "code",
   "execution_count": 21,
   "id": "f832e1d4-86c0-428d-b33d-0c2919e828af",
   "metadata": {},
   "outputs": [],
   "source": [
    "SECRETS = json.load(open('../secrets.json', 'r'))"
   ]
  },
  {
   "cell_type": "code",
   "execution_count": 33,
   "id": "221d7141-6df1-4bc0-9a0f-ba152dad5371",
   "metadata": {},
   "outputs": [
    {
     "name": "stdout",
     "output_type": "stream",
     "text": [
      "[(52, ' 2025-2026 Regular Session', 2, None, None, '2025_0'), (53, ' 2023-2024 Regular Session', 2, None, None, '2023_0'), (54, ' 2023-2024 Special Session #1 (Victims of Sexual Abuse)', 2, None, None, '2023_1'), (55, ' 2021-2022 Regular Session', 2, None, None, '2021_0'), (56, ' 2019-2020 Regular Session', 2, None, None, '2019_0'), (57, ' 2017-2018 Regular Session', 2, None, None, '2017_0'), (58, ' 2015-2016 Regular Session', 2, None, None, '2015_0'), (59, ' 2013-2014 Regular Session', 2, None, None, '2013_0'), (60, ' 2011-2012 Regular Session', 2, None, None, '2011_0'), (61, ' 2009-2010 Regular Session', 2, None, None, '2009_0'), (62, ' 2009-2010 Special Session #1 (Transportation)', 2, None, None, '2009_1'), (63, ' 2007-2008 Regular Session', 2, None, None, '2007_0'), (64, ' 2007-2008 Special Session #1 (Energy Policy)', 2, None, None, '2007_1'), (65, ' 2005-2006 Regular Session', 2, None, None, '2005_0'), (66, ' 2005-2006 Special Session #1 (Taxpayer Relief Act)', 2, None, None, '2005_1'), (67, ' 2003-2004 Regular Session', 2, None, None, '2003_0'), (68, ' 2001-2002 Regular Session', 2, None, None, '2001_0'), (69, ' 2001-2002 Special Session #1 ', 2, None, None, '2001_1'), (70, ' 1999-2000 Regular Session', 2, None, None, '1999_0'), (71, ' 1997-1998 Regular Session', 2, None, None, '1997_0'), (72, ' 1995-1996 Regular Session', 2, None, None, '1995_0'), (73, ' 1995-1996 Special Session #1 ', 2, None, None, '1995_1'), (74, ' 1995-1996 Special Session #2 ', 2, None, None, '1995_2'), (75, ' 1993-1994 Regular Session', 2, None, None, '1993_0'), (76, ' 1991-1992 Regular Session', 2, None, None, '1991_0'), (77, ' 1991-1992 Special Session #1 ', 2, None, None, '1991_1'), (78, ' 1989-1990 Regular Session', 2, None, None, '1989_0'), (79, ' 1987-1988 Regular Session', 2, None, None, '1987_0'), (80, ' 1987-1988 Special Session #1 ', 2, None, None, '1987_1'), (81, ' 1985-1986 Regular Session', 2, None, None, '1985_0'), (82, ' 1983-1984 Regular Session', 2, None, None, '1983_0'), (83, ' 1981-1982 Regular Session', 2, None, None, '1981_0'), (84, ' 1979-1980 Regular Session', 2, None, None, '1979_0'), (85, ' 1977-1978 Regular Session', 2, None, None, '1977_0'), (86, ' 1975-1976 Regular Session', 2, None, None, '1975_0'), (87, ' 1973-1974 Regular Session', 2, None, None, '1973_0'), (88, ' 1971-1972 Regular Session', 2, None, None, '1971_0'), (89, ' 1971-1972 Special Session #1 ', 2, None, None, '1971_1'), (90, ' 1971-1972 Special Session #2 ', 2, None, None, '1971_2'), (91, ' 1969-1970 Regular Session', 2, None, None, '1969_0'), (92, ' 1967-1968 Regular Session', 2, None, None, '1967_0'), (93, ' 1965-1966 Regular Session', 2, None, None, '1965_0'), (94, ' 1965-1966 Special Session #1 ', 2, None, None, '1965_1'), (95, ' 1965-1966 Special Session #2 ', 2, None, None, '1965_2'), (96, ' 1965-1966 Special Session #3 ', 2, None, None, '1965_3'), (97, ' 1963-1964 Regular Session', 2, None, None, '1963_0'), (98, ' 1963-1964 Special Session #1 ', 2, None, None, '1963_1'), (99, ' 1963-1964 Special Session #2 ', 2, None, None, '1963_2'), (100, ' 1961-1962 Regular Session', 2, None, None, '1961_0'), (101, ' 1961-1962 Special Session #1', 2, None, None, '1961_1')]\n"
     ]
    }
   ],
   "source": [
    "with psycopg.connect(f\"host={SECRETS['db_host']} dbname={SECRETS['db_name']} user={SECRETS['db_user_name']} password={SECRETS['db_user_pwd']}\") as conn:\n",
    "    with conn.cursor() as cur:\n",
    "        cur.execute(\"SELECT * FROM legislative_sessions\")\n",
    "        print(cur.fetchall())\n",
    "        # will print (1, 100, \"abc'def\")"
   ]
  },
  {
   "cell_type": "code",
   "execution_count": null,
   "id": "454d75ee-7a73-44b5-a66c-96470aa10338",
   "metadata": {},
   "outputs": [],
   "source": []
  }
 ],
 "metadata": {
  "kernelspec": {
   "display_name": "Python 3 (ipykernel)",
   "language": "python",
   "name": "python3"
  },
  "language_info": {
   "codemirror_mode": {
    "name": "ipython",
    "version": 3
   },
   "file_extension": ".py",
   "mimetype": "text/x-python",
   "name": "python",
   "nbconvert_exporter": "python",
   "pygments_lexer": "ipython3",
   "version": "3.11.2"
  }
 },
 "nbformat": 4,
 "nbformat_minor": 5
}
