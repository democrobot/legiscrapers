{
 "cells": [
  {
   "cell_type": "code",
   "execution_count": 1,
   "id": "e3ba0842-6ce4-4aa8-b77a-16a664d63c5d",
   "metadata": {},
   "outputs": [],
   "source": [
    "import csv\n",
    "import feedparser"
   ]
  },
  {
   "cell_type": "code",
   "execution_count": 2,
   "id": "117af94f-8780-4a4d-93d9-9aca05ddc902",
   "metadata": {},
   "outputs": [
    {
     "name": "stdout",
     "output_type": "stream",
     "text": [
      "[{'name': 'NIKIL SAVAL', 'link': 'https://www.legis.state.pa.us/cfdocs/legis/home/member_information/Senate_bio.cfm?id=1921', 'published': time.struct_time(tm_year=2024, tm_mon=11, tm_mday=19, tm_hour=11, tm_min=27, tm_sec=35, tm_wday=1, tm_yday=324, tm_isdst=0), 'id': 'Senate_1_20241119_112735', 'district': '01', 'county': 'Philadelphia County (Part)', 'party': 'D', 'personal_history': '', 'occupation': 'State Senator', 'parents': '', 'education': '', 'career': \"Senator Nikil Saval is a father, husband, writer, and organizer representing Pennsylvania's First Senatorial District, which lies in the heart of Philadelphia. <br /><br /><br /><br />Saval's commitment to solidarity and justice for working people, and his skill at coalition building, carried him from his roots as a labor organizer to the Pennsylvania General Assembly, where he currently serves as Democratic Chair of the Senate's Urban Affairs & Housing Committee and Chair of the Senate's Philadelphia Delegation. Saval has focused his legislative work on critical response to Pennsylvania's ongoing housing, mass incarceration, wage, and climate crises, while simultaneously pushing for deep structural change so that communities across the Commonwealth have the resources and support they need to thrive. One of his important legislative victories is the groundbreaking Whole-Home Repairs Program, which establishes a one-stop shop for home repairs and weatherization in each county in Pennsylvania while building up a local workforce and creating new, family-sustaining jobs in a growing field.<br /><br /><br /><br />As a writer, Saval has published extensively in The New York Times and The New Yorker, covering architecture, design, and housing. Saval previously served as co-editor of the literary journal n+1 and currently serves on its board of directors. In 2014, Saval published his book Cubed: A Secret History of the Workplace, in which he examined the long-term evolution of the office from its roots in 19th century counting houses all the way to the cubicle, ultimately presenting a world in which workplaces, and the lives of the workers within them, can be improved in the future. Saval has continued to write while in office. A recent op-ed features his analysis of Pennsylvania's bloated criminal legal system. After the death of Daniel Ellsberg, Saval reflected on his life and political legacy in an article in n+1.<br /><br /><br /><br />Saval's parents immigrated to the United States from Bangalore, India. In 1982, the year Saval was born, his parents opened a pizza restaurant, where Saval spent much of his childhood and adolescence. The employees of the restaurant were immigrants of all statuses, and Saval's parents helped many of them secure documentation. His family's experiences, as immigrants and as small business owners, were formative for Saval, giving shape to his perspective on workers' rights and his first experiences with solidarity. <br /><br /><br /><br />Since taking office, Saval has received numerous accolades for his work, including being named Champion of the Year (by Rebuilding Together), Outstanding Public Servant for Pennsylvania (by the Keystone Energy Efficiency Alliance), Elected Official of the Year (by Liberty Resources), and Urbanist Changemaker of the Year (by 5th Square). Saval has also been recognized for Championing Increased Funding for Affordable Housing (by the Philadelphia Association of Community Development Corporations) and with an Equal Justice Award (from Community Legal Services of Philadelphia). In addition, Saval has been listed in Philadelphia Magazine's 100 Most Influential People and City & State PA's Philly Power 100 List and earned a 100% on Conservation Voters of Pennsylvania's scorecard.<br /><br /> <br /><br />Saval is proud to be raising his sons, Ishaan and Mayukh, in South Philadelphia with his wife, Shannon Garrison, a historic preservationist. Saval is fighting for a Philadelphia and Pennsylvania that work for everyone.\", 'affiliations': '', 'military_service': '', 'district_1_street1': '1434 Germantown Ave.', 'district_1_street2': '', 'district_1_citystatezip': 'Philadelphia, PA 19122', 'district_1_phone': '(215) 952-3119', 'district_2_street1': '1107-09 S. 6th Street', 'district_2_street2': '', 'district_2_citystatezip': 'Philadelphia, PA 19147', 'district_2_phone': '(267) 668-3550', 'district_3_street1': '', 'district_3_street2': '', 'district_3_citystatezip': '', 'district_3_phone': '', 'capitol_street1': '543 Main Capitol', 'capitol_street2': '', 'capitol_citystatezip': 'Harrisburg, PA 17120', 'capitol_phone': '(717) 787-5662', 'image_src': 'https://www.palegis.us/resources/images/members/200/1921.jpg', 'member_elect': '', 'member_vacant': 'false'}, {'name': 'CHRISTINE M. TARTAGLIONE', 'link': 'https://www.legis.state.pa.us/cfdocs/legis/home/member_information/Senate_bio.cfm?id=277', 'published': time.struct_time(tm_year=2024, tm_mon=11, tm_mday=19, tm_hour=10, tm_min=45, tm_sec=4, tm_wday=1, tm_yday=324, tm_isdst=0), 'id': 'Senate_2_20241119_104504', 'district': '02', 'county': 'Philadelphia County (Part)', 'party': 'D', 'personal_history': '', 'occupation': 'State Senator', 'parents': 'Eugene M. and Margaret Tartaglione', 'education': 'Peirce College, 1980', 'career': \"Mem. Joint Select Committee on Election Issues, Gov Task Force on Voting Modernization, Firefighters and Emergency Services and Port Caucuses, Delaware River Basin Commission, Temple University Health System Episcopal Hospital, PATH (People Acting to Help), Empowerment Zone Board, Impact Services Corp, President's Advisory Council of the American Street Corridor Business Assoc, PenJerDel Steering Committee, and Ecumenical Hospitaller Order of St. John Knights of Malta.  Former Chair of Dem. State Committee.  Recipient Firefighters Friend Award, John F. Kennedy Memorial Award, Working Woman of the Year Award by Coalition of Labor Union Women, Achievement Award from Concerned Black Leaders of Lower Tioga-Hunting Park, Fireman and Prison Guard Assoc of Phila and PHILAPOSH Woman of the Year, cited in Italian Americans of the 20th Century; Member of Senate 1995 to date; Minority Caucus Administrator 2009-2010; elected Minority Caucus Secretary 2011.\", 'affiliations': '', 'military_service': '', 'district_1_street1': '5321 Oxford Avenue', 'district_1_street2': '', 'district_1_citystatezip': 'Philadelphia, PA 19124', 'district_1_phone': '(215) 533-0440', 'district_2_street1': '400 West Allegheny Avenue', 'district_2_street2': '', 'district_2_citystatezip': 'Philadelphia, PA 19133', 'district_2_phone': '(215) 291-4653', 'district_3_street1': '', 'district_3_street2': '', 'district_3_citystatezip': '', 'district_3_phone': '', 'capitol_street1': '458 Main Capitol', 'capitol_street2': '', 'capitol_citystatezip': 'Harrisburg, PA 17120', 'capitol_phone': '(717) 787-1141', 'image_src': 'https://www.palegis.us/resources/images/members/200/277.jpg', 'member_elect': '', 'member_vacant': 'false'}, {'name': 'SHARIF STREET', 'link': 'https://www.legis.state.pa.us/cfdocs/legis/home/member_information/Senate_bio.cfm?id=1767', 'published': time.struct_time(tm_year=2025, tm_mon=4, tm_mday=15, tm_hour=13, tm_min=45, tm_sec=48, tm_wday=1, tm_yday=105, tm_isdst=0), 'id': 'Senate_3_20250415_014548', 'district': '03', 'county': 'Philadelphia County (Part)', 'party': 'D', 'personal_history': 'Married to April Street, 5 children', 'occupation': 'Attorney/ State Senator', 'parents': 'Helen and John Street', 'education': 'Morehouse College, Cum Laude, B.A. in Business Administration and a concentration in Finance. University of Pennsylvania Law School in 1999.', 'career': \"Member of the American, Pennsylvania, Philadelphia and National Bar Associations, member of the Philadelphia Barristers Association; formerly Chief Legislative Advisor to the Democratic Chair of the Housing and Urban Development Committee and creator of Philadelphia Green Communities; co-founder and served on the Board of Directors of Urban Solution, a non-profit corporation created to address the health needs of traditionally under-served communities; council for HOPE VI, formerly managing director of the Housing Association of Delaware Valley; served on the board of the North Central Philadelphia Empowerment Zone's Housing Trust Fund and was a member of the North-Central Empowerment Zone's Community Advisory Committees for Housing, Crime and Public Safety, and Economic Development; and current member of Philadelphia's African and Caribbean Immigrant Affairs Commission.\", 'affiliations': '', 'military_service': '', 'district_1_street1': '1621 West Jefferson Street', 'district_1_street2': '', 'district_1_citystatezip': 'Philadelphia, PA 19121', 'district_1_phone': '(215) 227-6161', 'district_2_street1': '4458 A Germantown Avenue', 'district_2_street2': '', 'district_2_citystatezip': 'Philadelphia, PA 19140', 'district_2_phone': '(215) 457-5200', 'district_3_street1': '', 'district_3_street2': '', 'district_3_citystatezip': '', 'district_3_phone': '', 'capitol_street1': '535 Main Capitol', 'capitol_street2': '', 'capitol_citystatezip': 'Harrisburg, PA 17120', 'capitol_phone': '(717) 787-6735', 'image_src': 'https://www.palegis.us/resources/images/members/200/1767.jpg', 'member_elect': '', 'member_vacant': 'false'}, {'name': 'ARTHUR L HAYWOOD III', 'link': 'https://www.legis.state.pa.us/cfdocs/legis/home/member_information/Senate_bio.cfm?id=1689', 'published': time.struct_time(tm_year=2024, tm_mon=11, tm_mday=19, tm_hour=10, tm_min=45, tm_sec=4, tm_wday=1, tm_yday=324, tm_isdst=0), 'id': 'Senate_4_20241119_104504', 'district': '04', 'county': 'Montgomery County (Part) and Philadelphia County (Part)', 'party': 'D', 'personal_history': 'Married Julie Billingslea of Ardmore', 'occupation': 'State Senator', 'parents': 'Arthur and Virginia Haywood', 'education': 'B.A. Magna Cum Laude, Morehouse College, 1979; MsC London School of Economics (Marshall Scholar), 1981; J.D. University of Michigan Law School, 1985.', 'career': 'Worked to expand independence and power in low-income neighborhoods: Housing Attorney at Regional Housing Legal Services and Community Legal Services; Legal Counsel and Executive Vice President at Esperanza; partner in private practice representing community organizations in neighborhood revitalization activities; board member at Tenant Union Representative Network and Cheltenham Achievers Network; recognized for work by Pennsylvania Human Relations Commission, Christian Legal Aid Society, U.S. Department of Housing and Urban Development and John Marshall Fair Housing Institute; Commissioner Cheltenham Township 2010-2014; elected to the State Senate November 4, 2014.', 'affiliations': '', 'military_service': '', 'district_1_street1': '1168 Easton Road', 'district_1_street2': '', 'district_1_citystatezip': 'Abington, PA 19001', 'district_1_phone': '(215) 517-1434', 'district_2_street1': '7106 Germantown Avenue', 'district_2_street2': '', 'district_2_citystatezip': 'Philadelphia, PA 19119', 'district_2_phone': '(215) 242-8171', 'district_3_street1': '', 'district_3_street2': '', 'district_3_citystatezip': '', 'district_3_phone': '', 'capitol_street1': '10 East Wing', 'capitol_street2': '', 'capitol_citystatezip': 'Harrisburg, PA 17120', 'capitol_phone': '(717) 787-1427', 'image_src': 'https://www.palegis.us/resources/images/members/200/1689.jpg', 'member_elect': '', 'member_vacant': 'false'}, {'name': 'JOE PICOZZI', 'link': 'https://www.legis.state.pa.us/cfdocs/legis/home/member_information/Senate_bio.cfm?id=2036', 'published': time.struct_time(tm_year=2025, tm_mon=4, tm_mday=16, tm_hour=11, tm_min=48, tm_sec=2, tm_wday=2, tm_yday=106, tm_isdst=0), 'id': 'Senate_5_20250416_114802', 'district': '05', 'county': 'Philadelphia County (Part)', 'party': 'R', 'personal_history': '', 'occupation': '', 'parents': '', 'education': '', 'career': \"Joe Picozzi is a state senator-elect serving Northeast Philadelphia's 5th Senate District. At 29, he is the youngest state senator in Pennsylvania and the first Republican elected to represent Philadelphia in the State Senate since 1996. <br /><br /><br /><br />The son of a Philadelphia firefighter and a special education teacher, he was born and raised in Somerton and resides in Tacony.<br /><br /><br /><br />Before running for office, Joe served as chief of staff at the Manhattan Institute and was an aide to future Speaker of the House Kevin McCarthy. Joe graduated from Georgetown University in 2017 where he was a George F. Baker Scholar. An Eagle Scout, Joe has been dedicated to public service since an early age. He founded the Politics Club at his high school Holy Ghost Preparatory School and was appointed to the Philadelphia Youth Commission by City Councilman Brian O'Neill.\", 'affiliations': '', 'military_service': '', 'district_1_street1': '12361 Academy Rd', 'district_1_street2': '', 'district_1_citystatezip': 'Philadelphia, PA 19154', 'district_1_phone': '(215) 281-2539', 'district_2_street1': '', 'district_2_street2': '', 'district_2_citystatezip': '', 'district_2_phone': '', 'district_3_street1': '', 'district_3_street2': '', 'district_3_citystatezip': '', 'district_3_phone': '', 'capitol_street1': '187 Main Capitol', 'capitol_street2': '', 'capitol_citystatezip': 'Harrisburg, PA 17120', 'capitol_phone': '(717) 787-9608', 'image_src': 'https://www.palegis.us/resources/images/members/200/2036.jpg', 'member_elect': '', 'member_vacant': 'false'}]\n"
     ]
    }
   ],
   "source": [
    "# Replace with the URL of the RSS feed you want to parse\n",
    "rss_feed_url = \"https://www.legis.state.pa.us/WU01/LI/RSS/SenateMembers.xml\" \n",
    "\n",
    "# Parse the RSS feed\n",
    "feed = feedparser.parse(rss_feed_url)\n",
    "# print(feed)\n",
    "# output = open('pa_state_senate_data.csv', 'w')\n",
    "# for entry in feed.entries:\n",
    "#    output.write(f'{entry}')\n",
    "#output.close()\n",
    "\n",
    "# Accessing and iterating through feed entries (articles, items)\n",
    "records = []\n",
    "\n",
    "for entry in feed.entries:\n",
    "    record = {}\n",
    "    record['name'] = entry.get('title', 'N/A')\n",
    "    record['link'] = entry.get('link', 'N/A')\n",
    "    record['published'] = entry.get('published_parsed')\n",
    "    record['id'] = entry.get('id')\n",
    "    record['district'] = entry.get('parss_district')\n",
    "    record['county'] = entry.get('parss_county')\n",
    "    record['party'] = entry.get('parss_party')\n",
    "    record['personal_history'] = entry.get('parss_personal_history')\n",
    "    record['occupation'] = entry.get('parss_occupation')\n",
    "    record['parents'] = entry.get('parss_parents')\n",
    "    record['education'] = entry.get('parss_education')\n",
    "    record['career'] = entry.get('parss_career')\n",
    "    record['affiliations'] = entry.get('parss_other_boards_committees_commissions')\n",
    "    record['military_service'] = entry.get('parss_military_service')\n",
    "    record['district_1_street1'] = entry.get('parss_district_1_street1')\n",
    "    record['district_1_street2'] = entry.get('parss_district_1_street2')\n",
    "    record['district_1_citystatezip'] = entry.get('parss_district_1_citystatezip')\n",
    "    record['district_1_phone'] = entry.get('parss_district_1_phone')\n",
    "    record['district_2_street1'] = entry.get('parss_district_2_street1')\n",
    "    record['district_2_street2'] = entry.get('parss_district_2_street2')\n",
    "    record['district_2_citystatezip'] = entry.get('parss_district_2_citystatezip')\n",
    "    record['district_2_phone'] = entry.get('parss_district_2_phone')\n",
    "    record['district_3_street1'] = entry.get('parss_district_3_street1')\n",
    "    record['district_3_street2'] = entry.get('parss_district_3_street2')\n",
    "    record['district_3_citystatezip'] = entry.get('parss_district_3_citystatezip')\n",
    "    record['district_3_phone'] = entry.get('parss_district_3_phone')\n",
    "    record['capitol_street1'] = entry.get('parss_capitoladdress_street1')\n",
    "    record['capitol_street2'] = entry.get('parss_capitoladdress_street2')\n",
    "    record['capitol_citystatezip'] = entry.get('parss_capitoladdress_citystatezip')\n",
    "    record['capitol_phone'] = entry.get('parss_capitoladdress_phone')\n",
    "    record['image_src'] = entry.get('parss_imagesrc')\n",
    "    record['member_elect'] = entry.get('parss_memberelect')\n",
    "    record['member_vacant'] = entry.get('parss_vacant')\n",
    "    records.append(record)\n",
    "    \n",
    "    #print(record)\n",
    "    #print(\"-\" * 20)\n",
    "\n",
    "print(records[:5])"
   ]
  },
  {
   "cell_type": "code",
   "execution_count": 3,
   "id": "a2a352fb-03e9-4829-8a9a-d373935b97ed",
   "metadata": {},
   "outputs": [
    {
     "name": "stdout",
     "output_type": "stream",
     "text": [
      "Data written to <_io.TextIOWrapper name='pa_senate_members.csv' mode='w' encoding='UTF-8'>\n"
     ]
    }
   ],
   "source": [
    "with open('pa_senate_members.csv', 'w', newline='\\n') as csvfile:\n",
    "    # Define fieldnames from the keys of the first dictionary\n",
    "    fieldnames = records[0].keys()\n",
    "    writer = csv.DictWriter(csvfile, fieldnames=fieldnames)\n",
    "\n",
    "    # Write the header row\n",
    "    writer.writeheader()\n",
    "\n",
    "    # Write all data rows from the list of dictionaries\n",
    "    writer.writerows(records[1:])\n",
    "\n",
    "print(f\"Data written to {csvfile}\")"
   ]
  },
  {
   "cell_type": "code",
   "execution_count": null,
   "id": "c655054d-cf9b-40e9-9783-db37e7215a6e",
   "metadata": {},
   "outputs": [],
   "source": []
  }
 ],
 "metadata": {
  "kernelspec": {
   "display_name": "Python 3 (ipykernel)",
   "language": "python",
   "name": "python3"
  },
  "language_info": {
   "codemirror_mode": {
    "name": "ipython",
    "version": 3
   },
   "file_extension": ".py",
   "mimetype": "text/x-python",
   "name": "python",
   "nbconvert_exporter": "python",
   "pygments_lexer": "ipython3",
   "version": "3.11.2"
  }
 },
 "nbformat": 4,
 "nbformat_minor": 5
}
