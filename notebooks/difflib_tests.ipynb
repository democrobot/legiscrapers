{
 "cells": [
  {
   "cell_type": "code",
   "execution_count": 1,
   "id": "fbf8abc1-5b25-47fc-8a7a-f1dc2bfd106d",
   "metadata": {},
   "outputs": [],
   "source": [
    "import difflib\n",
    "from html_diff import diff"
   ]
  },
  {
   "cell_type": "code",
   "execution_count": 4,
   "id": "9b79c374-8183-4895-8f78-8378b477f1f3",
   "metadata": {},
   "outputs": [],
   "source": [
    "text1 = 'This is a sample sentence of test text.'\n",
    "text2 = 'This is a short sentence of test text showing some changes.'"
   ]
  },
  {
   "cell_type": "code",
   "execution_count": 5,
   "id": "5328fa1a-6cd1-48fa-bb86-7dad4dae6e1c",
   "metadata": {},
   "outputs": [
    {
     "data": {
      "text/plain": [
       "'This is a <del>sample</del><ins>short</ins> sentence of test text<ins> showing some changes</ins>.'"
      ]
     },
     "execution_count": 5,
     "metadata": {},
     "output_type": "execute_result"
    }
   ],
   "source": [
    "result = diff(text1, text2)\n",
    "result"
   ]
  },
  {
   "cell_type": "code",
   "execution_count": 8,
   "id": "7b601bb5-c027-4a32-a146-2a4e6cdeec47",
   "metadata": {},
   "outputs": [
    {
     "ename": "NotImplementedError",
     "evalue": "what to do with 'replace' opcode?",
     "output_type": "error",
     "traceback": [
      "\u001b[0;31m---------------------------------------------------------------------------\u001b[0m",
      "\u001b[0;31mNotImplementedError\u001b[0m                       Traceback (most recent call last)",
      "Cell \u001b[0;32mIn[8], line 21\u001b[0m\n\u001b[1;32m     18\u001b[0m     \u001b[38;5;28;01mreturn\u001b[39;00m \u001b[38;5;124m'\u001b[39m\u001b[38;5;124m'\u001b[39m\u001b[38;5;241m.\u001b[39mjoin(output)\n\u001b[1;32m     20\u001b[0m sm\u001b[38;5;241m=\u001b[39m difflib\u001b[38;5;241m.\u001b[39mSequenceMatcher(\u001b[38;5;28;01mNone\u001b[39;00m, text1, text2)\n\u001b[0;32m---> 21\u001b[0m \u001b[43mshow_diff\u001b[49m\u001b[43m(\u001b[49m\u001b[43msm\u001b[49m\u001b[43m)\u001b[49m\n",
      "Cell \u001b[0;32mIn[8], line 15\u001b[0m, in \u001b[0;36mshow_diff\u001b[0;34m(seqm)\u001b[0m\n\u001b[1;32m     13\u001b[0m     output\u001b[38;5;241m.\u001b[39mappend(\u001b[38;5;124m\"\u001b[39m\u001b[38;5;124m<del>\u001b[39m\u001b[38;5;124m\"\u001b[39m \u001b[38;5;241m+\u001b[39m seqm\u001b[38;5;241m.\u001b[39ma[a0:a1] \u001b[38;5;241m+\u001b[39m \u001b[38;5;124m\"\u001b[39m\u001b[38;5;124m</del>\u001b[39m\u001b[38;5;124m\"\u001b[39m)\n\u001b[1;32m     14\u001b[0m \u001b[38;5;28;01melif\u001b[39;00m opcode \u001b[38;5;241m==\u001b[39m \u001b[38;5;124m'\u001b[39m\u001b[38;5;124mreplace\u001b[39m\u001b[38;5;124m'\u001b[39m:\n\u001b[0;32m---> 15\u001b[0m     \u001b[38;5;28;01mraise\u001b[39;00m \u001b[38;5;167;01mNotImplementedError\u001b[39;00m(\u001b[38;5;124m\"\u001b[39m\u001b[38;5;124mwhat to do with \u001b[39m\u001b[38;5;124m'\u001b[39m\u001b[38;5;124mreplace\u001b[39m\u001b[38;5;124m'\u001b[39m\u001b[38;5;124m opcode?\u001b[39m\u001b[38;5;124m\"\u001b[39m)\n\u001b[1;32m     16\u001b[0m \u001b[38;5;28;01melse\u001b[39;00m:\n\u001b[1;32m     17\u001b[0m     \u001b[38;5;28;01mraise\u001b[39;00m \u001b[38;5;167;01mRuntimeError\u001b[39;00m(\u001b[38;5;124m\"\u001b[39m\u001b[38;5;124munexpected opcode\u001b[39m\u001b[38;5;124m\"\u001b[39m)\n",
      "\u001b[0;31mNotImplementedError\u001b[0m: what to do with 'replace' opcode?"
     ]
    }
   ],
   "source": [
    "# https://stackoverflow.com/questions/774316/python-difflib-highlighting-differences-inline\n",
    "\n",
    "def show_diff(seqm):\n",
    "    \"\"\"Unify operations between two compared strings\n",
    "seqm is a difflib.SequenceMatcher instance whose a & b are strings\"\"\"\n",
    "    output= []\n",
    "    for opcode, a0, a1, b0, b1 in seqm.get_opcodes():\n",
    "        if opcode == 'equal':\n",
    "            output.append(seqm.a[a0:a1])\n",
    "        elif opcode == 'insert':\n",
    "            output.append(\"<ins>\" + seqm.b[b0:b1] + \"</ins>\")\n",
    "        elif opcode == 'delete':\n",
    "            output.append(\"<del>\" + seqm.a[a0:a1] + \"</del>\")\n",
    "        elif opcode == 'replace':\n",
    "            raise NotImplementedError(\"what to do with 'replace' opcode?\")\n",
    "        else:\n",
    "            raise RuntimeError(\"unexpected opcode\")\n",
    "    return ''.join(output)\n",
    "\n",
    "sm= difflib.SequenceMatcher(None, text1, text2)\n",
    "show_diff(sm)"
   ]
  },
  {
   "cell_type": "code",
   "execution_count": null,
   "id": "567cc9e4-8715-4061-b714-cd87754e95b9",
   "metadata": {},
   "outputs": [],
   "source": []
  }
 ],
 "metadata": {
  "kernelspec": {
   "display_name": "Python 3 (ipykernel)",
   "language": "python",
   "name": "python3"
  },
  "language_info": {
   "codemirror_mode": {
    "name": "ipython",
    "version": 3
   },
   "file_extension": ".py",
   "mimetype": "text/x-python",
   "name": "python",
   "nbconvert_exporter": "python",
   "pygments_lexer": "ipython3",
   "version": "3.11.2"
  }
 },
 "nbformat": 4,
 "nbformat_minor": 5
}
