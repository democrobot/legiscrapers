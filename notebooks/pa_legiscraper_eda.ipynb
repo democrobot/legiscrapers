{
 "cells": [
  {
   "cell_type": "code",
   "execution_count": 1,
   "id": "e440554f-f449-430c-8b3d-9006a1c3a65f",
   "metadata": {},
   "outputs": [],
   "source": [
    "import requests\n",
    "import json\n",
    "from pathlib import Path\n",
    "from bs4 import BeautifulSoup"
   ]
  },
  {
   "cell_type": "code",
   "execution_count": 18,
   "id": "63803b77-0553-40eb-923d-130d6d041b9c",
   "metadata": {},
   "outputs": [],
   "source": [
    "url = 'https://www.palegis.us/legislation/bills/text/DOC/2025/0/HR0134/PN1045'"
   ]
  },
  {
   "cell_type": "code",
   "execution_count": 15,
   "id": "ec7c2d7a-def6-4def-b487-e114d2005a49",
   "metadata": {},
   "outputs": [],
   "source": [
    "doc = requests.get(url)"
   ]
  },
  {
   "cell_type": "code",
   "execution_count": 19,
   "id": "70bdc339-2982-4260-8ce2-d776afcdbbe0",
   "metadata": {},
   "outputs": [
    {
     "data": {
      "text/plain": [
       "<Response [403]>"
      ]
     },
     "execution_count": 19,
     "metadata": {},
     "output_type": "execute_result"
    }
   ],
   "source": [
    "doc"
   ]
  },
  {
   "cell_type": "code",
   "execution_count": 16,
   "id": "6ac9b267-246b-4732-aae9-6c1ca904c8d8",
   "metadata": {
    "scrolled": true
   },
   "outputs": [],
   "source": [
    "soup = BeautifulSoup(doc.text, 'lxml')"
   ]
  },
  {
   "cell_type": "code",
   "execution_count": 17,
   "id": "79ff9a6d-a2a3-4d76-979a-a200f6e76d59",
   "metadata": {},
   "outputs": [
    {
     "data": {
      "text/plain": [
       "<!DOCTYPE html>\n",
       "<html lang=\"en\">\n",
       "<head>\n",
       "<meta charset=\"utf-8\"/>\n",
       "<meta content=\"width=device-width, initial-scale=1\" name=\"viewport\"/>\n",
       "<meta content=\"\" name=\"keywords\"/>\n",
       "<meta content=\"403 Forbidden - You do not have permission to view this directory or page using the credentials that you supplied.\" name=\"description\"/>\n",
       "<meta content=\"Legislativate Data Processing Center\" name=\"Author\"/>\n",
       "<meta content=\"English\" name=\"language\"/>\n",
       "<meta content=\"noindex,nofollow\" name=\"Robots\"/>\n",
       "<meta content=\"noindex,nofollow\" name=\"googlebot\"/>\n",
       "<link crossorigin=\"anonymous\" href=\"https://cdn.jsdelivr.net/npm/bootstrap@5.3.2/dist/css/bootstrap.min.css\" integrity=\"sha384-T3c6CoIi6uLrA9TneNEoa7RxnatzjcDSCmG1MXxSR1GAsXEV/Dwwykc2MPK8M2HN\" rel=\"stylesheet\"/>\n",
       "<link href=\"/layout/resources/theme/css/theme.min.css\" rel=\"stylesheet\"/>\n",
       "<link href=\"/layout/resources/css/ldpc.css\" rel=\"stylesheet\"/>\n",
       "<meta content=\"403 Forbidden - The Official Website of the Pennsylvania General Assembly\" property=\"og:site_name\"/>\n",
       "<title>403 Forbidden - The Official Website of the Pennsylvania General Assembly</title>\n",
       "</head>\n",
       "<body>\n",
       "<nav class=\"navbar navbar-expand-lg d-print-none\">\n",
       "<div class=\"container-lg\">\n",
       "<a aria-label=\"General Assembly Home\" class=\"navbar-brand\" href=\"/\">\n",
       "<img alt=\"Pennsylvania Capitol Dome\" class=\"logo\" src=\"/resources/images/logo-dome.svg\"/>\n",
       "<div aria-labelledby=\"logo\" class=\"d-flex flex-column\">\n",
       "<div class=\"logo-state\">Pennsylvania</div>\n",
       "<div class=\"logo-text\">General Assembly</div>\n",
       "</div>\n",
       "</a>\n",
       "</div>\n",
       "</nav>\n",
       "<main>\n",
       "<div class=\"container-lg\" id=\"bodyContainer\"> <br/>\n",
       "             \n",
       "            <h1 class=\"display-1 mb-sm-4\">403 Forbidden</h1>\n",
       "<p class=\"pb-2 lead\">You do not have permission to view this directory or page using the credentials that you supplied. You can\n",
       "                try your request again, or contact the <a href=\"/webmaster\">webmaster</a> for additional\n",
       "                assistance.</p>\n",
       "<a class=\"btn btn-lg btn-primary shadow-primary w-sm-auto w-100\" href=\"/\"><i aria-hidden=\"true\" class=\"fa-duotone fa-house fa-lg me-2\"></i> Go to homepage</a><br/>\n",
       "<br/>\n",
       "             \n",
       "        </div>\n",
       "</main>\n",
       "<button aria-label=\"Scroll to Top\" class=\"btn btn-info btn-icon rounded-circle shadow-primary\" id=\"scroll-top\" title=\"Scroll to Top\" type=\"button\">\n",
       "<i aria-hidden=\"true\" class=\"fa-solid fa-arrow-up\"></i>\n",
       "</button>\n",
       "<script crossorigin=\"anonymous\" integrity=\"sha384-BBtl+eGJRgqQAUMxJ7pMwbEyER4l1g+O15P+16Ep7Q9Q+zqX6gSbd85u4mG4QzX+\" src=\"https://cdn.jsdelivr.net/npm/bootstrap@5.3.3/dist/js/bootstrap.min.js\"></script>\n",
       "</body>\n",
       "</html>"
      ]
     },
     "execution_count": 17,
     "metadata": {},
     "output_type": "execute_result"
    }
   ],
   "source": [
    "soup"
   ]
  },
  {
   "cell_type": "code",
   "execution_count": 5,
   "id": "2cd2ace4-0386-4af6-80c0-05571d505d96",
   "metadata": {},
   "outputs": [],
   "source": [
    "bills = soup.find_all('a', class_='bill')"
   ]
  },
  {
   "cell_type": "code",
   "execution_count": 6,
   "id": "ab4e63fb-995e-45c1-8a27-49cf198f55a3",
   "metadata": {},
   "outputs": [
    {
     "data": {
      "text/plain": [
       "0"
      ]
     },
     "execution_count": 6,
     "metadata": {},
     "output_type": "execute_result"
    }
   ],
   "source": [
    "len(bills)"
   ]
  },
  {
   "cell_type": "code",
   "execution_count": 7,
   "id": "bc93c4f5-5036-47fa-8c52-59c8ddb4e943",
   "metadata": {},
   "outputs": [
    {
     "ename": "IndexError",
     "evalue": "list index out of range",
     "output_type": "error",
     "traceback": [
      "\u001b[31m---------------------------------------------------------------------------\u001b[39m",
      "\u001b[31mIndexError\u001b[39m                                Traceback (most recent call last)",
      "\u001b[36mCell\u001b[39m\u001b[36m \u001b[39m\u001b[32mIn[7]\u001b[39m\u001b[32m, line 1\u001b[39m\n\u001b[32m----> \u001b[39m\u001b[32m1\u001b[39m \u001b[43mbills\u001b[49m\u001b[43m[\u001b[49m\u001b[43m-\u001b[49m\u001b[32;43m1\u001b[39;49m\u001b[43m]\u001b[49m\n",
      "\u001b[31mIndexError\u001b[39m: list index out of range"
     ]
    }
   ],
   "source": [
    "bills[-1]"
   ]
  },
  {
   "cell_type": "code",
   "execution_count": 8,
   "id": "a5dc083f-9081-4582-a3f6-6193fa965965",
   "metadata": {},
   "outputs": [
    {
     "ename": "IndexError",
     "evalue": "list index out of range",
     "output_type": "error",
     "traceback": [
      "\u001b[31m---------------------------------------------------------------------------\u001b[39m",
      "\u001b[31mIndexError\u001b[39m                                Traceback (most recent call last)",
      "\u001b[36mCell\u001b[39m\u001b[36m \u001b[39m\u001b[32mIn[8]\u001b[39m\u001b[32m, line 1\u001b[39m\n\u001b[32m----> \u001b[39m\u001b[32m1\u001b[39m \u001b[43mbills\u001b[49m\u001b[43m[\u001b[49m\u001b[32;43m0\u001b[39;49m\u001b[43m]\u001b[49m\n",
      "\u001b[31mIndexError\u001b[39m: list index out of range"
     ]
    }
   ],
   "source": [
    "bills[0]"
   ]
  },
  {
   "cell_type": "code",
   "execution_count": null,
   "id": "e91b97b2-effb-49e7-9360-896188d892d8",
   "metadata": {},
   "outputs": [],
   "source": [
    "1273 + 374 + 11"
   ]
  },
  {
   "cell_type": "code",
   "execution_count": null,
   "id": "85838ff0-e213-44e5-b47b-1c73c86f0f9e",
   "metadata": {},
   "outputs": [],
   "source": [
    "sources = json.load(open('../data/pa_legis_bill_indexes.json', 'r'))"
   ]
  },
  {
   "cell_type": "code",
   "execution_count": null,
   "id": "9598bc07-6fb0-4597-9151-71dc219db1f5",
   "metadata": {},
   "outputs": [],
   "source": [
    "def process_pa_session_index(url):\n",
    "    pass"
   ]
  },
  {
   "cell_type": "code",
   "execution_count": null,
   "id": "78fcebfa-bb87-4300-a470-178ee34b8d4a",
   "metadata": {},
   "outputs": [],
   "source": [
    "pa_legis_url = 'https://www.palegis.us'\n",
    "index_urls = {}\n",
    "for session in sources['sessions']:\n",
    "    for chamber in ('H', 'S'):\n",
    "        url = (f'https://www.palegis.us/legislation/bills/bill-index?display=index&billBody={chamber}&sessYr={session['session_year']}&sessInd={session['session_index']}')\n",
    "        index_urls[f'{session['session_year']}_{chamber}'] = url"
   ]
  },
  {
   "cell_type": "code",
   "execution_count": null,
   "id": "01a2203a-d859-44fb-aea9-b134e27b05c9",
   "metadata": {},
   "outputs": [],
   "source": [
    "index_urls"
   ]
  },
  {
   "cell_type": "code",
   "execution_count": null,
   "id": "62cbd9eb-4dda-4a72-85c0-c4826aac4759",
   "metadata": {},
   "outputs": [],
   "source": [
    "for index in index_urls.items():\n",
    "    status_code = requests.get(index[1]).status_code\n",
    "    print(f'{index[0]}: {status_code}')"
   ]
  },
  {
   "cell_type": "code",
   "execution_count": null,
   "id": "7f2b821c-feb3-4ca5-afeb-bc40e1c67953",
   "metadata": {},
   "outputs": [],
   "source": [
    "# https://www.palegis.us/legislation/bills/2023/sb262\n",
    "# Look for a test bill with all the possible pieces included (memo, reports, co-sponsors, etc)\n",
    "test_url = 'https://www.palegis.us/legislation/bills/2021/hb1321'\n",
    "test_doc = requests.get(test_url)\n",
    "print(test_doc.status_code)\n",
    "test_doc.status_code\n",
    "print(len(test_doc.text))\n",
    "soup = BeautifulSoup(doc.text, 'lxml')"
   ]
  },
  {
   "cell_type": "code",
   "execution_count": null,
   "id": "6105240d-4645-4a61-9a97-381b372d7a3b",
   "metadata": {},
   "outputs": [],
   "source": [
    "soup"
   ]
  },
  {
   "cell_type": "code",
   "execution_count": null,
   "id": "0c9bf1c2-0577-4e31-9dda-bb01595e7f36",
   "metadata": {},
   "outputs": [],
   "source": [
    "def get_bill_session():\n",
    "    pass\n",
    "\n",
    "def get_bill_name():\n",
    "    pass\n",
    "\n",
    "def get_bill_memo():\n",
    "    pass\n",
    "\n",
    "def get_bill_memo_date():\n",
    "    pass\n",
    "\n",
    "def get_sponsors():\n",
    "    pass\n",
    "\n",
    "def get_bill_committee():\n",
    "    pass\n",
    "\n",
    "def get_bill_status():\n",
    "    pass\n",
    "\n",
    "def get_bill_history():\n",
    "    pass\n",
    "\n",
    "def get_bill_version():\n",
    "    # PDF, HTML, and Word files\n",
    "    pass\n",
    "\n",
    "def get_bill(url):\n",
    "    bill = requests.get(url)\n",
    "    if bill.status_code == 200:\n",
    "        bill_text = bill.text\n",
    "        bill_session = get_bill_session(bill_text)\n",
    "\n"
   ]
  },
  {
   "cell_type": "code",
   "execution_count": null,
   "id": "70ae3251-b443-4670-942f-c332e664ddf0",
   "metadata": {},
   "outputs": [],
   "source": []
  }
 ],
 "metadata": {
  "kernelspec": {
   "display_name": "Python 3 (ipykernel)",
   "language": "python",
   "name": "python3"
  },
  "language_info": {
   "codemirror_mode": {
    "name": "ipython",
    "version": 3
   },
   "file_extension": ".py",
   "mimetype": "text/x-python",
   "name": "python",
   "nbconvert_exporter": "python",
   "pygments_lexer": "ipython3",
   "version": "3.11.2"
  }
 },
 "nbformat": 4,
 "nbformat_minor": 5
}
