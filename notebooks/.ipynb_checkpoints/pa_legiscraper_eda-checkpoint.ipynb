{
 "cells": [
  {
   "cell_type": "code",
   "execution_count": 26,
   "id": "e440554f-f449-430c-8b3d-9006a1c3a65f",
   "metadata": {},
   "outputs": [],
   "source": [
    "import requests\n",
    "import json\n",
    "from pathlib import Path\n",
    "from bs4 import BeautifulSoup"
   ]
  },
  {
   "cell_type": "code",
   "execution_count": 2,
   "id": "63803b77-0553-40eb-923d-130d6d041b9c",
   "metadata": {},
   "outputs": [],
   "source": [
    "url = 'https://www.palegis.us/legislation/bills/bill-index?display=index&billBody=S&sessYr=2023&sessInd=0'"
   ]
  },
  {
   "cell_type": "code",
   "execution_count": 3,
   "id": "ec7c2d7a-def6-4def-b487-e114d2005a49",
   "metadata": {},
   "outputs": [],
   "source": [
    "doc = requests.get(url)"
   ]
  },
  {
   "cell_type": "code",
   "execution_count": 10,
   "id": "6ac9b267-246b-4732-aae9-6c1ca904c8d8",
   "metadata": {},
   "outputs": [],
   "source": [
    "soup = BeautifulSoup(doc.text, 'lxml')"
   ]
  },
  {
   "cell_type": "code",
   "execution_count": 11,
   "id": "2cd2ace4-0386-4af6-80c0-05571d505d96",
   "metadata": {},
   "outputs": [],
   "source": [
    "bills = soup.find_all('a', class_='bill')"
   ]
  },
  {
   "cell_type": "code",
   "execution_count": 12,
   "id": "ab4e63fb-995e-45c1-8a27-49cf198f55a3",
   "metadata": {},
   "outputs": [
    {
     "data": {
      "text/plain": [
       "1658"
      ]
     },
     "execution_count": 12,
     "metadata": {},
     "output_type": "execute_result"
    }
   ],
   "source": [
    "len(bills)"
   ]
  },
  {
   "cell_type": "code",
   "execution_count": 13,
   "id": "bc93c4f5-5036-47fa-8c52-59c8ddb4e943",
   "metadata": {},
   "outputs": [
    {
     "data": {
      "text/plain": [
       "<a class=\"bill\" data-id=\"172455\" data-number=\"319\" href=\"/legislation/bills/2023/sr319\">SR 319</a>"
      ]
     },
     "execution_count": 13,
     "metadata": {},
     "output_type": "execute_result"
    }
   ],
   "source": [
    "bills[-1]"
   ]
  },
  {
   "cell_type": "code",
   "execution_count": 14,
   "id": "a5dc083f-9081-4582-a3f6-6193fa965965",
   "metadata": {},
   "outputs": [
    {
     "data": {
      "text/plain": [
       "<a class=\"bill\" data-id=\"166309\" data-number=\"1\" href=\"/legislation/bills/2023/sb1\">SB 1</a>"
      ]
     },
     "execution_count": 14,
     "metadata": {},
     "output_type": "execute_result"
    }
   ],
   "source": [
    "bills[0]"
   ]
  },
  {
   "cell_type": "code",
   "execution_count": 19,
   "id": "e91b97b2-effb-49e7-9360-896188d892d8",
   "metadata": {},
   "outputs": [
    {
     "data": {
      "text/plain": [
       "1658"
      ]
     },
     "execution_count": 19,
     "metadata": {},
     "output_type": "execute_result"
    }
   ],
   "source": [
    "1273 + 374 + 11"
   ]
  },
  {
   "cell_type": "code",
   "execution_count": 32,
   "id": "85838ff0-e213-44e5-b47b-1c73c86f0f9e",
   "metadata": {},
   "outputs": [],
   "source": [
    "sources = json.load(open('../data/pa_legis_bill_indexes.json', 'r'))"
   ]
  },
  {
   "cell_type": "code",
   "execution_count": 36,
   "id": "9598bc07-6fb0-4597-9151-71dc219db1f5",
   "metadata": {},
   "outputs": [],
   "source": [
    "def process_pa_session_index(url):\n",
    "    pass"
   ]
  },
  {
   "cell_type": "code",
   "execution_count": 40,
   "id": "78fcebfa-bb87-4300-a470-178ee34b8d4a",
   "metadata": {},
   "outputs": [],
   "source": [
    "pa_legis_url = 'https://www.palegis.us'\n",
    "index_urls = {}\n",
    "for session in sources['sessions']:\n",
    "    for chamber in ('H', 'S'):\n",
    "        url = (f'https://www.palegis.us/legislation/bills/bill-index?display=index&billBody={chamber}&sessYr={session['session_year']}&sessInd={session['session_index']}')\n",
    "        index_urls[f'{session['session_year']}_{chamber}'] = url"
   ]
  },
  {
   "cell_type": "code",
   "execution_count": 41,
   "id": "01a2203a-d859-44fb-aea9-b134e27b05c9",
   "metadata": {},
   "outputs": [
    {
     "data": {
      "text/plain": [
       "{'2023_H': 'https://www.palegis.us/legislation/bills/bill-index?display=index&billBody=H&sessYr=2023&sessInd=1',\n",
       " '2023_S': 'https://www.palegis.us/legislation/bills/bill-index?display=index&billBody=S&sessYr=2023&sessInd=1',\n",
       " '2021_H': 'https://www.palegis.us/legislation/bills/bill-index?display=index&billBody=H&sessYr=2021&sessInd=0',\n",
       " '2021_S': 'https://www.palegis.us/legislation/bills/bill-index?display=index&billBody=S&sessYr=2021&sessInd=0',\n",
       " '2019_H': 'https://www.palegis.us/legislation/bills/bill-index?display=index&billBody=H&sessYr=2019&sessInd=0',\n",
       " '2019_S': 'https://www.palegis.us/legislation/bills/bill-index?display=index&billBody=S&sessYr=2019&sessInd=0',\n",
       " '2017_H': 'https://www.palegis.us/legislation/bills/bill-index?display=index&billBody=H&sessYr=2017&sessInd=0',\n",
       " '2017_S': 'https://www.palegis.us/legislation/bills/bill-index?display=index&billBody=S&sessYr=2017&sessInd=0',\n",
       " '2015_H': 'https://www.palegis.us/legislation/bills/bill-index?display=index&billBody=H&sessYr=2015&sessInd=0',\n",
       " '2015_S': 'https://www.palegis.us/legislation/bills/bill-index?display=index&billBody=S&sessYr=2015&sessInd=0',\n",
       " '2013_H': 'https://www.palegis.us/legislation/bills/bill-index?display=index&billBody=H&sessYr=2013&sessInd=0',\n",
       " '2013_S': 'https://www.palegis.us/legislation/bills/bill-index?display=index&billBody=S&sessYr=2013&sessInd=0',\n",
       " '2011_H': 'https://www.palegis.us/legislation/bills/bill-index?display=index&billBody=H&sessYr=2011&sessInd=0',\n",
       " '2011_S': 'https://www.palegis.us/legislation/bills/bill-index?display=index&billBody=S&sessYr=2011&sessInd=0',\n",
       " '2009_H': 'https://www.palegis.us/legislation/bills/bill-index?display=index&billBody=H&sessYr=2009&sessInd=1',\n",
       " '2009_S': 'https://www.palegis.us/legislation/bills/bill-index?display=index&billBody=S&sessYr=2009&sessInd=1',\n",
       " '2007_H': 'https://www.palegis.us/legislation/bills/bill-index?display=index&billBody=H&sessYr=2007&sessInd=1',\n",
       " '2007_S': 'https://www.palegis.us/legislation/bills/bill-index?display=index&billBody=S&sessYr=2007&sessInd=1',\n",
       " '2005_H': 'https://www.palegis.us/legislation/bills/bill-index?display=index&billBody=H&sessYr=2005&sessInd=1',\n",
       " '2005_S': 'https://www.palegis.us/legislation/bills/bill-index?display=index&billBody=S&sessYr=2005&sessInd=1',\n",
       " '2003_H': 'https://www.palegis.us/legislation/bills/bill-index?display=index&billBody=H&sessYr=2003&sessInd=0',\n",
       " '2003_S': 'https://www.palegis.us/legislation/bills/bill-index?display=index&billBody=S&sessYr=2003&sessInd=0',\n",
       " '2001_H': 'https://www.palegis.us/legislation/bills/bill-index?display=index&billBody=H&sessYr=2001&sessInd=1',\n",
       " '2001_S': 'https://www.palegis.us/legislation/bills/bill-index?display=index&billBody=S&sessYr=2001&sessInd=1',\n",
       " '1999_H': 'https://www.palegis.us/legislation/bills/bill-index?display=index&billBody=H&sessYr=1999&sessInd=0',\n",
       " '1999_S': 'https://www.palegis.us/legislation/bills/bill-index?display=index&billBody=S&sessYr=1999&sessInd=0',\n",
       " '1997_H': 'https://www.palegis.us/legislation/bills/bill-index?display=index&billBody=H&sessYr=1997&sessInd=0',\n",
       " '1997_S': 'https://www.palegis.us/legislation/bills/bill-index?display=index&billBody=S&sessYr=1997&sessInd=0',\n",
       " '1995_H': 'https://www.palegis.us/legislation/bills/bill-index?display=index&billBody=H&sessYr=1995&sessInd=2',\n",
       " '1995_S': 'https://www.palegis.us/legislation/bills/bill-index?display=index&billBody=S&sessYr=1995&sessInd=2',\n",
       " '1993_H': 'https://www.palegis.us/legislation/bills/bill-index?display=index&billBody=H&sessYr=1993&sessInd=0',\n",
       " '1993_S': 'https://www.palegis.us/legislation/bills/bill-index?display=index&billBody=S&sessYr=1993&sessInd=0',\n",
       " '1991_H': 'https://www.palegis.us/legislation/bills/bill-index?display=index&billBody=H&sessYr=1991&sessInd=1',\n",
       " '1991_S': 'https://www.palegis.us/legislation/bills/bill-index?display=index&billBody=S&sessYr=1991&sessInd=1',\n",
       " '1989_H': 'https://www.palegis.us/legislation/bills/bill-index?display=index&billBody=H&sessYr=1989&sessInd=0',\n",
       " '1989_S': 'https://www.palegis.us/legislation/bills/bill-index?display=index&billBody=S&sessYr=1989&sessInd=0',\n",
       " '1987_H': 'https://www.palegis.us/legislation/bills/bill-index?display=index&billBody=H&sessYr=1987&sessInd=1',\n",
       " '1987_S': 'https://www.palegis.us/legislation/bills/bill-index?display=index&billBody=S&sessYr=1987&sessInd=1',\n",
       " '1985_H': 'https://www.palegis.us/legislation/bills/bill-index?display=index&billBody=H&sessYr=1985&sessInd=0',\n",
       " '1985_S': 'https://www.palegis.us/legislation/bills/bill-index?display=index&billBody=S&sessYr=1985&sessInd=0',\n",
       " '1983_H': 'https://www.palegis.us/legislation/bills/bill-index?display=index&billBody=H&sessYr=1983&sessInd=0',\n",
       " '1983_S': 'https://www.palegis.us/legislation/bills/bill-index?display=index&billBody=S&sessYr=1983&sessInd=0',\n",
       " '1981_H': 'https://www.palegis.us/legislation/bills/bill-index?display=index&billBody=H&sessYr=1981&sessInd=0',\n",
       " '1981_S': 'https://www.palegis.us/legislation/bills/bill-index?display=index&billBody=S&sessYr=1981&sessInd=0',\n",
       " '1979_H': 'https://www.palegis.us/legislation/bills/bill-index?display=index&billBody=H&sessYr=1979&sessInd=0',\n",
       " '1979_S': 'https://www.palegis.us/legislation/bills/bill-index?display=index&billBody=S&sessYr=1979&sessInd=0',\n",
       " '1977_H': 'https://www.palegis.us/legislation/bills/bill-index?display=index&billBody=H&sessYr=1977&sessInd=0',\n",
       " '1977_S': 'https://www.palegis.us/legislation/bills/bill-index?display=index&billBody=S&sessYr=1977&sessInd=0',\n",
       " '1975_H': 'https://www.palegis.us/legislation/bills/bill-index?display=index&billBody=H&sessYr=1975&sessInd=0',\n",
       " '1975_S': 'https://www.palegis.us/legislation/bills/bill-index?display=index&billBody=S&sessYr=1975&sessInd=0',\n",
       " '1973_H': 'https://www.palegis.us/legislation/bills/bill-index?display=index&billBody=H&sessYr=1973&sessInd=0',\n",
       " '1973_S': 'https://www.palegis.us/legislation/bills/bill-index?display=index&billBody=S&sessYr=1973&sessInd=0',\n",
       " '1971_H': 'https://www.palegis.us/legislation/bills/bill-index?display=index&billBody=H&sessYr=1971&sessInd=2',\n",
       " '1971_S': 'https://www.palegis.us/legislation/bills/bill-index?display=index&billBody=S&sessYr=1971&sessInd=2',\n",
       " '1969_H': 'https://www.palegis.us/legislation/bills/bill-index?display=index&billBody=H&sessYr=1969&sessInd=0',\n",
       " '1969_S': 'https://www.palegis.us/legislation/bills/bill-index?display=index&billBody=S&sessYr=1969&sessInd=0',\n",
       " '1967_H': 'https://www.palegis.us/legislation/bills/bill-index?display=index&billBody=H&sessYr=1967&sessInd=0',\n",
       " '1967_S': 'https://www.palegis.us/legislation/bills/bill-index?display=index&billBody=S&sessYr=1967&sessInd=0',\n",
       " '1965_H': 'https://www.palegis.us/legislation/bills/bill-index?display=index&billBody=H&sessYr=1965&sessInd=3',\n",
       " '1965_S': 'https://www.palegis.us/legislation/bills/bill-index?display=index&billBody=S&sessYr=1965&sessInd=3',\n",
       " '1963_H': 'https://www.palegis.us/legislation/bills/bill-index?display=index&billBody=H&sessYr=1963&sessInd=2',\n",
       " '1963_S': 'https://www.palegis.us/legislation/bills/bill-index?display=index&billBody=S&sessYr=1963&sessInd=2',\n",
       " '1961_H': 'https://www.palegis.us/legislation/bills/bill-index?display=index&billBody=H&sessYr=1961&sessInd=1',\n",
       " '1961_S': 'https://www.palegis.us/legislation/bills/bill-index?display=index&billBody=S&sessYr=1961&sessInd=1'}"
      ]
     },
     "execution_count": 41,
     "metadata": {},
     "output_type": "execute_result"
    }
   ],
   "source": [
    "index_urls"
   ]
  },
  {
   "cell_type": "code",
   "execution_count": 47,
   "id": "62cbd9eb-4dda-4a72-85c0-c4826aac4759",
   "metadata": {},
   "outputs": [
    {
     "name": "stdout",
     "output_type": "stream",
     "text": [
      "2023_H: 200\n",
      "2023_S: 200\n",
      "2021_H: 200\n",
      "2021_S: 200\n",
      "2019_H: 200\n",
      "2019_S: 200\n",
      "2017_H: 200\n",
      "2017_S: 200\n",
      "2015_H: 200\n",
      "2015_S: 200\n",
      "2013_H: 200\n",
      "2013_S: 200\n",
      "2011_H: 200\n",
      "2011_S: 200\n",
      "2009_H: 200\n",
      "2009_S: 200\n",
      "2007_H: 200\n",
      "2007_S: 200\n",
      "2005_H: 200\n",
      "2005_S: 200\n",
      "2003_H: 200\n",
      "2003_S: 200\n",
      "2001_H: 200\n",
      "2001_S: 200\n",
      "1999_H: 200\n",
      "1999_S: 200\n",
      "1997_H: 200\n",
      "1997_S: 200\n",
      "1995_H: 200\n",
      "1995_S: 200\n",
      "1993_H: 200\n",
      "1993_S: 200\n",
      "1991_H: 200\n",
      "1991_S: 200\n",
      "1989_H: 200\n",
      "1989_S: 200\n",
      "1987_H: 200\n",
      "1987_S: 200\n",
      "1985_H: 200\n",
      "1985_S: 200\n",
      "1983_H: 200\n",
      "1983_S: 200\n",
      "1981_H: 200\n",
      "1981_S: 200\n",
      "1979_H: 200\n",
      "1979_S: 200\n",
      "1977_H: 200\n",
      "1977_S: 200\n",
      "1975_H: 200\n",
      "1975_S: 200\n",
      "1973_H: 200\n",
      "1973_S: 200\n",
      "1971_H: 200\n",
      "1971_S: 200\n",
      "1969_H: 200\n",
      "1969_S: 200\n",
      "1967_H: 200\n",
      "1967_S: 200\n",
      "1965_H: 404\n",
      "1965_S: 404\n",
      "1963_H: 200\n",
      "1963_S: 200\n",
      "1961_H: 200\n",
      "1961_S: 200\n"
     ]
    }
   ],
   "source": [
    "for index in index_urls.items():\n",
    "    status_code = requests.get(index[1]).status_code\n",
    "    print(f'{index[0]}: {status_code}')"
   ]
  },
  {
   "cell_type": "code",
   "execution_count": 51,
   "id": "7f2b821c-feb3-4ca5-afeb-bc40e1c67953",
   "metadata": {},
   "outputs": [
    {
     "name": "stdout",
     "output_type": "stream",
     "text": [
      "86326\n"
     ]
    }
   ],
   "source": [
    "# https://www.palegis.us/legislation/bills/2023/sb262\n",
    "# Look for a test bill with all the possible pieces included (memo, reports, co-sponsors, etc)\n",
    "test_url = 'https://www.palegis.us/legislation/bills/2021/hb1621'\n",
    "test_doc = requests.get(test_url).text\n",
    "print(len(test_doc))"
   ]
  },
  {
   "cell_type": "code",
   "execution_count": 49,
   "id": "0c9bf1c2-0577-4e31-9dda-bb01595e7f36",
   "metadata": {},
   "outputs": [],
   "source": [
    "\n",
    "\n",
    "def get_bill_session():\n",
    "    pass\n",
    "\n",
    "def get_bill_name():\n",
    "    pass\n",
    "\n",
    "def get_bill_memo():\n",
    "    pass\n",
    "\n",
    "def get_bill_memo_date():\n",
    "    pass\n",
    "\n",
    "def get_sponsors():\n",
    "    pass\n",
    "\n",
    "def get_bill_committee():\n",
    "    pass\n",
    "\n",
    "def get_bill_status():\n",
    "    pass\n",
    "\n",
    "def get_bill_history():\n",
    "    pass\n",
    "\n",
    "def get_bill_version():\n",
    "    # PDF, HTML, and Word files\n",
    "    pass\n",
    "\n",
    "def get_bill(url):\n",
    "    bill = requests.get(url)\n",
    "    if bill.status_code == 200:\n",
    "        bill_text = bill.text\n",
    "        bill_session = get_bill_session(bill_text)\n",
    "\n"
   ]
  },
  {
   "cell_type": "code",
   "execution_count": null,
   "id": "70ae3251-b443-4670-942f-c332e664ddf0",
   "metadata": {},
   "outputs": [],
   "source": []
  }
 ],
 "metadata": {
  "kernelspec": {
   "display_name": "Python 3 (ipykernel)",
   "language": "python",
   "name": "python3"
  },
  "language_info": {
   "codemirror_mode": {
    "name": "ipython",
    "version": 3
   },
   "file_extension": ".py",
   "mimetype": "text/x-python",
   "name": "python",
   "nbconvert_exporter": "python",
   "pygments_lexer": "ipython3",
   "version": "3.13.0rc2"
  }
 },
 "nbformat": 4,
 "nbformat_minor": 5
}
