{
 "cells": [
  {
   "cell_type": "code",
   "execution_count": 1,
   "id": "66e365d8-3a7f-4c61-8ea8-e22e380c8862",
   "metadata": {},
   "outputs": [],
   "source": [
    "import requests\n",
    "import json\n",
    "from pathlib import Path\n",
    "from bs4 import BeautifulSoup\n",
    "from unicodedata import normalize\n",
    "from urllib.parse import urlparse"
   ]
  },
  {
   "cell_type": "markdown",
   "id": "099e52f1-ea59-4fe4-b4ec-f87bdcc55f09",
   "metadata": {},
   "source": [
    "## Bill title and subtitle\n",
    "- Co-Sponsorship Memo (done)\n",
    "- Prime Sponsor (done)\n",
    "- Co-Sponsors (done)\n",
    "- Bill Status & History\n",
    "- Printers Numbers\n",
    "- Amendments\n",
    "- Votes\n",
    "- Committee Meetings\n",
    "- Statute References\n",
    "\n"
   ]
  },
  {
   "cell_type": "code",
   "execution_count": 2,
   "id": "a580db00-581c-441b-845f-a403e5a2212e",
   "metadata": {},
   "outputs": [
    {
     "data": {
      "text/plain": [
       "'https://www.palegis.us/legislation/bills/2021/hb1486'"
      ]
     },
     "execution_count": 2,
     "metadata": {},
     "output_type": "execute_result"
    }
   ],
   "source": [
    "url = urlparse('https://www.palegis.us/legislation/bills/2021/hb1486')\n",
    "f'{url.scheme}://{url.netloc}{url.path}'"
   ]
  },
  {
   "cell_type": "code",
   "execution_count": 3,
   "id": "59a12cac-0942-4a07-8b0d-03e0485182e6",
   "metadata": {},
   "outputs": [
    {
     "name": "stdout",
     "output_type": "stream",
     "text": [
      "164223\n"
     ]
    }
   ],
   "source": [
    "html = requests.get(f'{url.scheme}://{url.netloc}{url.path}')\n",
    "print(len(html.text))\n",
    "#print(html.text)\n",
    "page = open('test_page.html', 'w')\n",
    "page.write(html.text)\n",
    "page.close()\n",
    "\n",
    "soup = BeautifulSoup(html.text, 'lxml')"
   ]
  },
  {
   "cell_type": "code",
   "execution_count": 4,
   "id": "f911c418-777f-49af-9669-054c667e0388",
   "metadata": {},
   "outputs": [],
   "source": [
    "main = soup.find(id=\"bodyContainer\")"
   ]
  },
  {
   "cell_type": "code",
   "execution_count": 5,
   "id": "61cf28f6-0770-4ebd-975a-27b7b072852f",
   "metadata": {},
   "outputs": [
    {
     "data": {
      "text/plain": [
       "'House Bill 1486'"
      ]
     },
     "execution_count": 5,
     "metadata": {},
     "output_type": "execute_result"
    }
   ],
   "source": [
    "# Find the bill number\n",
    "main.find('div', class_=\"h1 header-title\").contents[0].strip()"
   ]
  },
  {
   "cell_type": "code",
   "execution_count": 6,
   "id": "f728f0d7-5d51-4583-a339-d8291fcb6169",
   "metadata": {},
   "outputs": [
    {
     "data": {
      "text/plain": [
       "'2021-2022 Regular Session'"
      ]
     },
     "execution_count": 6,
     "metadata": {},
     "output_type": "execute_result"
    }
   ],
   "source": [
    "# Find the bill session\n",
    "main.find('div', class_=\"h5 header-pretitle\").contents[0]"
   ]
  },
  {
   "cell_type": "code",
   "execution_count": 7,
   "id": "915dab37-2a06-4145-b704-53754012d77e",
   "metadata": {},
   "outputs": [
    {
     "data": {
      "text/plain": [
       "'An Act amending Titles 74 (Transportation) and 75 (Vehicles) of the Pennsylvania Consolidated Statutes, in turnpike, further providing for definitions, for electronic toll collection and for annual hearing; in registration of vehicles, providing for contributions for the prevention of child abuse and neglect, further providing for display of registration plate, providing for pollinator conservation registration plate, for Afghanistan and Iraq veterans plate and for Blue Star Family plate and further providing for suspension of registration upon unpaid tolls; in fees, further providing for payments to special funds and establishing the Pollinator Habitat Program Fund; and, in powers of department and local authorities, further providing for provisions relating to fare evasion.'"
      ]
     },
     "execution_count": 7,
     "metadata": {},
     "output_type": "execute_result"
    }
   ],
   "source": [
    "# Find the bill description\n",
    "main.find('div', class_='d-print-none mt-5').find_all('div', class_='col-md-9')[0].div.contents[0]"
   ]
  },
  {
   "cell_type": "code",
   "execution_count": 8,
   "id": "03d79480-cc72-4c4b-b5bc-9969a97c19fe",
   "metadata": {},
   "outputs": [],
   "source": [
    "# Find the bill memo page URL (title, date, URL); NOTE: may not exist\n",
    "memo_url = main.find('div', class_='d-print-none mt-5').find_all('div', class_='col-md-9')[0].a['href']\n",
    "#print(f'{memo_title}: {memo_url}')"
   ]
  },
  {
   "cell_type": "code",
   "execution_count": 9,
   "id": "c0724c99-4871-4b78-8bd8-fcd2d42797ee",
   "metadata": {},
   "outputs": [],
   "source": [
    "# Load memo page\n",
    "memo_page = requests.get(f'{url.scheme}://{url.netloc}{memo_url}')\n",
    "memo = BeautifulSoup(memo_page.text, 'lxml')"
   ]
  },
  {
   "cell_type": "code",
   "execution_count": 10,
   "id": "489c8885-f424-4696-8dff-94253811d15a",
   "metadata": {},
   "outputs": [
    {
     "data": {
      "text/plain": [
       "'Blue Star Family License Plate'"
      ]
     },
     "execution_count": 10,
     "metadata": {},
     "output_type": "execute_result"
    }
   ],
   "source": [
    "# Load memo title\n",
    "memo.find('div', class_=\"h1 header-title\").text.strip()"
   ]
  },
  {
   "cell_type": "code",
   "execution_count": 11,
   "id": "7cceb976-524b-4d71-a908-c43cfd549071",
   "metadata": {},
   "outputs": [
    {
     "data": {
      "text/plain": [
       "'May 6, 2021 02:01 PM to All House Members'"
      ]
     },
     "execution_count": 11,
     "metadata": {},
     "output_type": "execute_result"
    }
   ],
   "source": [
    "# Load memo date\n",
    "memo.find('div', class_=\"h5 header-pretitle\").text.strip()"
   ]
  },
  {
   "cell_type": "code",
   "execution_count": 12,
   "id": "966400d3-3a9b-4644-9660-10ad52fe6259",
   "metadata": {},
   "outputs": [
    {
     "data": {
      "text/plain": [
       "'Military families give their lives for our country and this Commonwealth.\\n\\nWhen they join the military community, some families choose to display a Blue Stars service banner of flag in a window of their home to signify a loved one is an active duty service member. This special flag, displayed only by military families, is where the phrase “Blue Star Family” comes from and refers to the immediate family members of an active duty service member.\\n\\nIt is my intention to introduce legislation to honor those who actively serve their country and their families by making the Blue Star Family plate available to families of active duty service members. The plate will display a Blue Star which will signify a family loved one is an active duty service member. Applicants must provide proper documentation and a fee of $20 to the Department of Transportation (PennDOT).\\n\\nPlease join me in honoring these individuals for their service and sacrifices by co-sponsoring this important legislation.'"
      ]
     },
     "execution_count": 12,
     "metadata": {},
     "output_type": "execute_result"
    }
   ],
   "source": [
    "# Load memo text\n",
    "memo.find_all(class_=\"mt-3\")[2].text"
   ]
  },
  {
   "cell_type": "code",
   "execution_count": 13,
   "id": "1db6f1de-5f5d-4cdb-8ace-b4941cc13b2a",
   "metadata": {},
   "outputs": [],
   "source": [
    "# Get bill prime sponsor\n",
    "# main.find_all('div', class_=\"h3 mt-3\") # This gets all key sections!\n",
    "prime_sponsor = main.find_all('div', class_=\"h3 mt-3\")[1].find_next('div')"
   ]
  },
  {
   "cell_type": "code",
   "execution_count": 14,
   "id": "1389a156-af8e-4ec4-a2c6-244ec55889af",
   "metadata": {},
   "outputs": [
    {
     "data": {
      "text/plain": [
       "\"Representative Timothy J. O'Neal\""
      ]
     },
     "execution_count": 14,
     "metadata": {},
     "output_type": "execute_result"
    }
   ],
   "source": [
    "# Get bill prime sponsor name\n",
    "prime_sponsor.a.text"
   ]
  },
  {
   "cell_type": "code",
   "execution_count": 15,
   "id": "c9a2da11-4f2a-422d-9d21-0593450b16ba",
   "metadata": {},
   "outputs": [
    {
     "data": {
      "text/plain": [
       "ParseResult(scheme='https', netloc='www.palegis.us', path='/house/members/bio/1797/representative-timothy-j-o', params='', query='', fragment='')"
      ]
     },
     "execution_count": 15,
     "metadata": {},
     "output_type": "execute_result"
    }
   ],
   "source": [
    "# Get bill prime sponsor URL\n",
    "prime_sponsor_url = urlparse(f'{url.scheme}://{url.netloc}{prime_sponsor.a['href']}')\n",
    "prime_sponsor_url"
   ]
  },
  {
   "cell_type": "code",
   "execution_count": 16,
   "id": "a7141356-f617-4027-a6c0-a1d6b84e42de",
   "metadata": {},
   "outputs": [
    {
     "data": {
      "text/plain": [
       "'1797'"
      ]
     },
     "execution_count": 16,
     "metadata": {},
     "output_type": "execute_result"
    }
   ],
   "source": [
    "# Get bill prime sponsor ID\n",
    "prime_sponsor_url.path.split('/')[4]"
   ]
  },
  {
   "cell_type": "code",
   "execution_count": 17,
   "id": "73799687-e68a-4d26-a209-4e4d49751a15",
   "metadata": {},
   "outputs": [
    {
     "name": "stdout",
     "output_type": "stream",
     "text": [
      "{'url': '/house/members/bio/1750/rep-francis-ryan', 'chamber': 'house', 'id': '1750', 'name': 'Rep. Francis Ryan', 'photo_url': 'https://www.palegis.us/resources/images/members/300/1750.jpg?20240411'}\n",
      "{'url': '/house/members/bio/41/rep-tim-hennessey', 'chamber': 'house', 'id': '41', 'name': 'Rep. Tim Hennessey', 'photo_url': 'https://www.palegis.us/resources/images/members/300/41.jpg?20240411'}\n",
      "{'url': '/house/members/bio/97/rep-tina-pickett', 'chamber': 'house', 'id': '97', 'name': 'Rep. Tina Pickett', 'photo_url': 'https://www.palegis.us/resources/images/members/300/97.jpg?20240411'}\n",
      "{'url': '/house/members/bio/1022/rep-rob-kauffman', 'chamber': 'house', 'id': '1022', 'name': 'Rep. Rob Kauffman', 'photo_url': 'https://www.palegis.us/resources/images/members/300/1022.jpg?20240411'}\n",
      "{'url': '/house/members/bio/1846/rep-f-todd-polinchock', 'chamber': 'house', 'id': '1846', 'name': 'Rep. F. Todd Polinchock', 'photo_url': 'https://www.palegis.us/resources/images/members/300/1846.jpg?20240411'}\n",
      "{'url': '/house/members/bio/1211/rep-doyle-heffley', 'chamber': 'house', 'id': '1211', 'name': 'Rep. Doyle Heffley', 'photo_url': 'https://www.palegis.us/resources/images/members/300/1211.jpg?20240411'}\n",
      "{'url': '/house/members/bio/1793/rep-jeanne-mcneill', 'chamber': 'house', 'id': '1793', 'name': 'Rep. Jeanne McNeill', 'photo_url': 'https://www.palegis.us/resources/images/members/300/1793.jpg?20240411'}\n",
      "{'url': '/house/members/bio/1200/rep-rosemary-brown', 'chamber': 'house', 'id': '1200', 'name': 'Rep. Rosemary Brown', 'photo_url': 'https://www.palegis.us/resources/images/members/300/1200.jpg?20240411'}\n"
     ]
    }
   ],
   "source": [
    "# Get bill co-sponsors\n",
    "co_sponsors = main.find_all('div', class_=\"col-6 col-lg-3 col-md-4 col-sm-6 mb-5\")\n",
    "for member in co_sponsors:\n",
    "    member_data = {}\n",
    "    member_data['url'] = member.a['href']\n",
    "    member_data['chamber'] = member.a['href'].split('/')[1]\n",
    "    member_data['id'] = member.a['href'].split('/')[4]\n",
    "    member_data['name'] = member.a.text\n",
    "    member_data['photo_url'] = member.img['src']\n",
    "    print(member_data)"
   ]
  },
  {
   "cell_type": "code",
   "execution_count": 18,
   "id": "5b256229-381f-450c-b5f0-e100a7ead099",
   "metadata": {},
   "outputs": [
    {
     "name": "stdout",
     "output_type": "stream",
     "text": [
      "{'url': '/house/members/bio/1843/rep-andrew-lewis', 'chamber': 'house', 'id': '1843', 'name': 'Rep. Andrew Lewis', 'photo_url': 'https://www.palegis.us/resources/images/members/300/1843.jpg?20240411'}\n",
      "{'url': '/house/members/bio/1859/rep-wendi-thomas', 'chamber': 'house', 'id': '1859', 'name': 'Rep. Wendi Thomas', 'photo_url': 'https://www.palegis.us/resources/images/members/300/1859.jpg?20240411'}\n",
      "{'url': '/house/members/bio/136/rep-robert-freeman', 'chamber': 'house', 'id': '136', 'name': 'Rep. Robert Freeman', 'photo_url': 'https://www.palegis.us/resources/images/members/300/136.jpg?20240411'}\n",
      "{'url': '/house/members/bio/90/rep-chris-sainato', 'chamber': 'house', 'id': '90', 'name': 'Rep. Chris Sainato', 'photo_url': 'https://www.palegis.us/resources/images/members/300/90.jpg?20240411'}\n",
      "{'url': '/house/members/bio/1707/rep-craig-staats', 'chamber': 'house', 'id': '1707', 'name': 'Rep. Craig Staats', 'photo_url': 'https://www.palegis.us/resources/images/members/300/1707.jpg?20240411'}\n",
      "{'url': '/house/members/bio/1796/rep-clint-owlett', 'chamber': 'house', 'id': '1796', 'name': 'Rep. Clint Owlett', 'photo_url': 'https://www.palegis.us/resources/images/members/300/1796.jpg?20240411'}\n",
      "{'url': '/house/members/bio/1202/rep-lynda-schlegel-culver', 'chamber': 'house', 'id': '1202', 'name': 'Rep. Lynda Schlegel Culver', 'photo_url': 'https://www.palegis.us/resources/images/members/300/1202.jpg?20240411'}\n",
      "{'url': '/house/members/bio/1912/rep-tracy-pennycuick', 'chamber': 'house', 'id': '1912', 'name': 'Rep. Tracy Pennycuick', 'photo_url': 'https://www.palegis.us/resources/images/members/300/1912.jpg?20240411'}\n",
      "{'url': '/house/members/bio/1744/rep-anita-kulik', 'chamber': 'house', 'id': '1744', 'name': 'Rep. Anita Kulik', 'photo_url': 'https://www.palegis.us/resources/images/members/300/1744.jpg?20240411'}\n",
      "{'url': '/house/members/bio/1204/rep-tina-davis', 'chamber': 'house', 'id': '1204', 'name': 'Rep. Tina Davis', 'photo_url': 'https://www.palegis.us/resources/images/members/300/1204.jpg?20240411'}\n",
      "{'url': '/house/members/bio/1904/rep-joe-hamm', 'chamber': 'house', 'id': '1904', 'name': 'Rep. Joe Hamm', 'photo_url': 'https://www.palegis.us/resources/images/members/300/1904.jpg?20240411'}\n",
      "{'url': '/house/members/bio/1848/rep-joe-webster', 'chamber': 'house', 'id': '1848', 'name': 'Rep. Joe Webster', 'photo_url': 'https://www.palegis.us/resources/images/members/300/1848.jpg?20240411'}\n",
      "{'url': '/house/members/bio/1839/rep-louis-schmitt', 'chamber': 'house', 'id': '1839', 'name': 'Rep. Louis Schmitt', 'photo_url': 'https://www.palegis.us/resources/images/members/300/1839.jpg?20240411'}\n",
      "{'url': '/house/members/bio/1033/rep-david-millard', 'chamber': 'house', 'id': '1033', 'name': 'Rep. David Millard', 'photo_url': 'https://www.palegis.us/resources/images/members/300/1033.jpg?20240411'}\n",
      "{'url': '/house/members/bio/1101/rep-dan-moul', 'chamber': 'house', 'id': '1101', 'name': 'Rep. Dan Moul', 'photo_url': 'https://www.palegis.us/resources/images/members/300/1101.jpg?20240411'}\n",
      "{'url': '/house/members/bio/1688/rep-michael-driscoll', 'chamber': 'house', 'id': '1688', 'name': 'Rep. Michael Driscoll', 'photo_url': 'https://www.palegis.us/resources/images/members/300/1688.jpg?20240411'}\n",
      "{'url': '/house/members/bio/1615/rep-ed-neilson', 'chamber': 'house', 'id': '1615', 'name': 'Rep. Ed Neilson', 'photo_url': 'https://www.palegis.us/resources/images/members/300/1615.jpg?20240411'}\n",
      "{'url': '/house/members/bio/1871/rep-david-rowe', 'chamber': 'house', 'id': '1871', 'name': 'Rep. David Rowe', 'photo_url': 'https://www.palegis.us/resources/images/members/300/1871.jpg?20240411'}\n",
      "{'url': '/house/members/bio/1647/rep-mark-rozzi', 'chamber': 'house', 'id': '1647', 'name': 'Rep. Mark Rozzi', 'photo_url': 'https://www.palegis.us/resources/images/members/300/1647.jpg?20240411'}\n",
      "{'url': '/house/members/bio/1847/rep-joe-ciresi', 'chamber': 'house', 'id': '1847', 'name': 'Rep. Joe Ciresi', 'photo_url': 'https://www.palegis.us/resources/images/members/300/1847.jpg?20240411'}\n",
      "{'url': '/house/members/bio/1855/rep-jennifer-o', 'chamber': 'house', 'id': '1855', 'name': \"Rep. Jennifer O'Mara\", 'photo_url': 'https://www.palegis.us/resources/images/members/300/1855.jpg?20240411'}\n",
      "{'url': '/house/members/bio/1209/rep-mark-gillen', 'chamber': 'house', 'id': '1209', 'name': 'Rep. Mark Gillen', 'photo_url': 'https://www.palegis.us/resources/images/members/300/1209.jpg?20240411'}\n",
      "{'url': '/house/members/bio/1853/rep-david-delloso', 'chamber': 'house', 'id': '1853', 'name': 'Rep. David Delloso', 'photo_url': 'https://www.palegis.us/resources/images/members/300/1853.jpg?20240411'}\n"
     ]
    }
   ],
   "source": [
    "# Get bill additional co-sponsors\n",
    "add_co_sponsors = main.find_all('div', class_=\"col-6 col-md-3 col-sm-6 mb-5\")\n",
    "for member in add_co_sponsors:\n",
    "    member_data = {}\n",
    "    member_data['url'] = member.a['href']\n",
    "    member_data['chamber'] = member.a['href'].split('/')[1]\n",
    "    member_data['id'] = member.a['href'].split('/')[4]\n",
    "    member_data['name'] = member.a.text\n",
    "    member_data['photo_url'] = member.img['src']\n",
    "    print(member_data)"
   ]
  },
  {
   "cell_type": "code",
   "execution_count": 19,
   "id": "68f48493-0fc9-45dc-b544-41044cbfc3bd",
   "metadata": {},
   "outputs": [
    {
     "data": {
      "text/plain": [
       "<tr>\n",
       "<td><a aria-label=\"2021-2022 Regular Session HB 1486 PN 1602 Bill Text (PDF)\" href=\"/legislation/bills/text/PDF/2021/0/HB1486/PN1602\" target=\"_blank\">1602</a></td>\n",
       "<td style=\"text-align:left\">Referred to <a class=\"committee\" href=\"/house/committees/38/transportation\">Transportation</a>,  May 25, 2021</td>\n",
       "</tr>"
      ]
     },
     "execution_count": 19,
     "metadata": {},
     "output_type": "execute_result"
    }
   ],
   "source": [
    "# Get bill history; NOTE: Unicode decoding needed, as well as URL prefix for committee\n",
    "# referrals and amendments\n",
    "# TODO: Rearrange order and convert date string to object, extracted, \n",
    "\n",
    "actions = main.find('table', class_='table table-striped w-100 w-md-75 w-lg-50 ms-3').find_all('tr')\n",
    "bill_history = []\n",
    "for action in actions:\n",
    "    items = action.find_all('td')\n",
    "    revision = items[0].contents\n",
    "    #if revision:\n",
    "    #    link_url = revision.find('a')['href']\n",
    "    \n",
    "    description = items[1].contents\n",
    "    #print(f'{revision}: {description}')\n",
    "    # bill_history.append(action)\n",
    "    \n",
    "    #if event[0]:\n",
    "    #    event[0] = f'{url.scheme}://{url.netloc}/legislation/bills/text/PDF/2021/0/HB1486/PN1602'\n",
    "    #bill_history.append([url, event])\n",
    "actions[0]"
   ]
  },
  {
   "cell_type": "code",
   "execution_count": 60,
   "id": "608ede53-17f5-4207-8fdf-d3ccc866146d",
   "metadata": {},
   "outputs": [
    {
     "name": "stdout",
     "output_type": "stream",
     "text": [
      "* 1602, https://www.palegis.us/legislation/bills/text/PDF/2021/0/HB1486/PN1602, 2021-2022 Regular Session HB 1486 PN 1602 Bill Text (PDF), Referred to , 38, /house/committees/38/transportation, Transportation\n",
      "* 1713, https://www.palegis.us/legislation/bills/text/PDF/2021/0/HB1486/PN1713, 2021-2022 Regular Session HB 1486 PN 1713 Bill Text (PDF), Reported as amended, , , , \n",
      "* First consideration, June 8, 2021 , , , \n",
      "* Re-committed to , 44, /house/committees/44/rules, Rules\n",
      "* Re-reported as committed, , , , \n",
      "* Laid on the table, Sept. 15, 2021 , , , \n",
      "* Removed from table, Nov. 10, 2021, , , \n",
      "* Laid on the table, Nov. 10, 2021 , , , \n",
      "* Removed from table, April 27, 2022, , , \n",
      "* 3130, https://www.palegis.us/legislation/bills/text/PDF/2021/0/HB1486/PN3130, 2021-2022 Regular Session HB 1486 PN 3130 Bill Text (PDF), Second consideration, with amendments, , amendment-list?billnum=1486&sessind=0&searchby=amendment&amendingbody=h&billtype=b&billbody=h&billpn=1713&sessyr=2021, /legislation/amendments/amendment-list?billnum=1486&sessind=0&searchby=amendment&amendingbody=h&billtype=b&billbody=h&billpn=1713&sessyr=2021, May 23, 2022\n",
      "* Re-committed to , 4, /house/committees/4/appropriations, Appropriations\n",
      "* (Remarks see House Journal Page 445-446), May 23, 2022, , , \n",
      "* Re-reported as committed, , , , \n",
      "* Third consideration and final passage, May 24, 2022 , , , \n",
      "* In the Senate , , , \n",
      "* Referred to , 19, /senate/committees/19/transportation, Transportation\n",
      "* 3315, https://www.palegis.us/legislation/bills/text/PDF/2021/0/HB1486/PN3315, 2021-2022 Regular Session HB 1486 PN 3315 Bill Text (PDF), Reported as amended, , , , \n",
      "* First consideration, June 28, 2022 , , , \n",
      "* Second consideration, June 29, 2022 , , , \n",
      "* Re-referred to , 3, /senate/committees/3/appropriations, Appropriations\n",
      "* Re-reported as committed, , , , \n",
      "* 3604, https://www.palegis.us/legislation/bills/text/PDF/2021/0/HB1486/PN3604, 2021-2022 Regular Session HB 1486 PN 3604 Bill Text (PDF), Amended on third consideration, , , , \n",
      "* (Remarks see Senate Journal Page 1125-1130), Oct. 25, 2022, , , \n",
      "* Third consideration and final passage, Oct. 26, 2022 , , , \n",
      "* In the House , , , \n",
      "* Referred to , 44, /house/committees/44/rules, Rules\n",
      "* Re-reported on concurrence, as committed, , , , \n",
      "* House concurred in Senate amendments, Oct. 26, 2022 , , , \n",
      "* (Remarks see House Journal Page 1226), Oct. 26, 2022, , , \n",
      "* Signed in House, Oct. 26, 2022, , , \n",
      "* Signed in Senate, Oct. 26, 2022, , , \n",
      "* Presented to the Governor, Oct. 27, 2022, , , \n",
      "* Approved by the Governor, Nov. 3, 2022, , , \n",
      "* Act No. , cfdocs, https://www.legis.state.pa.us/cfdocs/legis/li/uconsCheck.cfm?yr=2022&sessInd=0&act=112, 112\n"
     ]
    }
   ],
   "source": [
    "for action in actions:\n",
    "    items = action.find_all('td')\n",
    "    \n",
    "    if len(items[1]) == 3:\n",
    "        action_type = items[1].contents[0]\n",
    "        committee_id = items[1].a['href'].split('/')[3]\n",
    "        committee_url = items[1].a['href']\n",
    "        committee_name = items[1].contents[1].text\n",
    "    else:\n",
    "        action_type = items[1].contents[0]\n",
    "        committee_id = ''\n",
    "        committee_url = ''\n",
    "        committee_name = ''\n",
    "        \n",
    "    if items[0].contents:\n",
    "        pn_url = f'{url.scheme}://{url.netloc}{items[0].a['href']}'\n",
    "        pn_id = items[0].a.text\n",
    "        pn_description = items[0].a['aria-label']\n",
    "        print(f'* {pn_id}, {pn_url}, {pn_description}, {action_type}, {committee_id}, {committee_url}, {committee_name}')\n",
    "    else:\n",
    "        print(f'* {action_type}, {committee_id}, {committee_url}, {committee_name}')"
   ]
  },
  {
   "cell_type": "code",
   "execution_count": 21,
   "id": "5dfef80a-c47b-4795-9835-54a3052a9fa4",
   "metadata": {},
   "outputs": [],
   "source": [
    "# Get bill committee(s)\n",
    "\n"
   ]
  },
  {
   "cell_type": "code",
   "execution_count": 22,
   "id": "8bfd510e-d022-4af8-b3bf-42eb24a45483",
   "metadata": {},
   "outputs": [],
   "source": [
    "# Get bill status\n",
    "\n"
   ]
  },
  {
   "cell_type": "code",
   "execution_count": 23,
   "id": "d47d6a23-01a0-4096-9a17-c27c60519f52",
   "metadata": {},
   "outputs": [],
   "source": [
    "# Get bill version\n",
    "\n"
   ]
  },
  {
   "cell_type": "code",
   "execution_count": 24,
   "id": "c498f967-053f-4ab9-aab7-0cd87f650a69",
   "metadata": {},
   "outputs": [],
   "source": [
    "# Get bill text\n",
    "\n"
   ]
  },
  {
   "cell_type": "code",
   "execution_count": 25,
   "id": "467b4629-4e64-46f5-8e56-f1fd36348ce3",
   "metadata": {},
   "outputs": [],
   "source": [
    "# Get bill files\n",
    "\n"
   ]
  }
 ],
 "metadata": {
  "kernelspec": {
   "display_name": "Python 3 (ipykernel)",
   "language": "python",
   "name": "python3"
  },
  "language_info": {
   "codemirror_mode": {
    "name": "ipython",
    "version": 3
   },
   "file_extension": ".py",
   "mimetype": "text/x-python",
   "name": "python",
   "nbconvert_exporter": "python",
   "pygments_lexer": "ipython3",
   "version": "3.12.6"
  }
 },
 "nbformat": 4,
 "nbformat_minor": 5
}
