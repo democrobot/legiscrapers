{
 "cells": [
  {
   "cell_type": "code",
   "execution_count": 1,
   "id": "fbf8abc1-5b25-47fc-8a7a-f1dc2bfd106d",
   "metadata": {},
   "outputs": [],
   "source": [
    "import difflib\n",
    "from html_diff import diff"
   ]
  },
  {
   "cell_type": "code",
   "execution_count": 4,
   "id": "9b79c374-8183-4895-8f78-8378b477f1f3",
   "metadata": {},
   "outputs": [],
   "source": [
    "text1 = 'This is a sample sentence of test text.'\n",
    "text2 = 'This is a short sentence of test text showing some changes.'"
   ]
  },
  {
   "cell_type": "code",
   "execution_count": 5,
   "id": "5328fa1a-6cd1-48fa-bb86-7dad4dae6e1c",
   "metadata": {},
   "outputs": [
    {
     "data": {
      "text/plain": [
       "'This is a <del>sample</del><ins>short</ins> sentence of test text<ins> showing some changes</ins>.'"
      ]
     },
     "execution_count": 5,
     "metadata": {},
     "output_type": "execute_result"
    }
   ],
   "source": [
    "result = diff(text1, text2)\n",
    "result"
   ]
  },
  {
   "cell_type": "code",
   "execution_count": 6,
   "id": "7b601bb5-c027-4a32-a146-2a4e6cdeec47",
   "metadata": {},
   "outputs": [
    {
     "data": {
      "text/plain": [
       "'lorem<ins> foo</ins> ipsum dolor <del>sit </del>amet'"
      ]
     },
     "execution_count": 6,
     "metadata": {},
     "output_type": "execute_result"
    }
   ],
   "source": [
    "def show_diff(seqm):\n",
    "    \"\"\"Unify operations between two compared strings\n",
    "seqm is a difflib.SequenceMatcher instance whose a & b are strings\"\"\"\n",
    "    output= []\n",
    "    for opcode, a0, a1, b0, b1 in seqm.get_opcodes():\n",
    "        if opcode == 'equal':\n",
    "            output.append(seqm.a[a0:a1])\n",
    "        elif opcode == 'insert':\n",
    "            output.append(\"<ins>\" + seqm.b[b0:b1] + \"</ins>\")\n",
    "        elif opcode == 'delete':\n",
    "            output.append(\"<del>\" + seqm.a[a0:a1] + \"</del>\")\n",
    "        elif opcode == 'replace':\n",
    "            raise NotImplementedError(\"what to do with 'replace' opcode?\")\n",
    "        else:\n",
    "            raise RuntimeError(\"unexpected opcode\")\n",
    "    return ''.join(output)\n",
    "\n",
    "sm= difflib.SequenceMatcher(None, \"lorem ipsum dolor sit amet\", \"lorem foo ipsum dolor amet\")\n",
    "show_diff(sm)"
   ]
  },
  {
   "cell_type": "code",
   "execution_count": null,
   "id": "567cc9e4-8715-4061-b714-cd87754e95b9",
   "metadata": {},
   "outputs": [],
   "source": []
  }
 ],
 "metadata": {
  "kernelspec": {
   "display_name": "Python 3 (ipykernel)",
   "language": "python",
   "name": "python3"
  },
  "language_info": {
   "codemirror_mode": {
    "name": "ipython",
    "version": 3
   },
   "file_extension": ".py",
   "mimetype": "text/x-python",
   "name": "python",
   "nbconvert_exporter": "python",
   "pygments_lexer": "ipython3",
   "version": "3.12.6"
  }
 },
 "nbformat": 4,
 "nbformat_minor": 5
}
