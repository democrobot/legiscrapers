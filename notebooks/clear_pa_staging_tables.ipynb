{
 "cells": [
  {
   "cell_type": "code",
   "execution_count": 5,
   "id": "15e79235-4d27-439a-8de1-2c74119b7399",
   "metadata": {},
   "outputs": [],
   "source": [
    "import json\n",
    "import psycopg"
   ]
  },
  {
   "cell_type": "code",
   "execution_count": 6,
   "id": "f832e1d4-86c0-428d-b33d-0c2919e828af",
   "metadata": {},
   "outputs": [],
   "source": [
    "SECRETS = json.load(open('../secrets.json', 'r'))"
   ]
  },
  {
   "cell_type": "code",
   "execution_count": 8,
   "id": "221d7141-6df1-4bc0-9a0f-ba152dad5371",
   "metadata": {},
   "outputs": [],
   "source": [
    "with psycopg.connect(f\"host={SECRETS['db_host']} dbname={SECRETS['db_name']} user={SECRETS['db_user_name']} password={SECRETS['db_user_pwd']}\") as conn:\n",
    "    with conn.cursor() as cur:\n",
    "        cur.execute('truncate table staging.pa_monthly_bill_actions')\n",
    "        cur.execute('truncate table staging.pa_monthly_bill_sources')\n",
    "        cur.execute('truncate table staging.pa_monthly_bill_sponsorships')\n",
    "        cur.execute('truncate table staging.pa_monthly_bill_version_links')\n",
    "        cur.execute('truncate table staging.pa_monthly_bill_versions')\n",
    "        cur.execute('truncate table staging.pa_monthly_bills')\n",
    "        cur.execute('truncate table staging.pa_monthly_vote_counts')\n",
    "        cur.execute('truncate table staging.pa_monthly_vote_people')\n",
    "        cur.execute('truncate table staging.pa_monthly_vote_sources')\n",
    "        cur.execute('truncate table staging.pa_monthly_votes')"
   ]
  },
  {
   "cell_type": "code",
   "execution_count": null,
   "id": "0222b4bc-090b-4808-8ea8-fad47b1f72af",
   "metadata": {},
   "outputs": [],
   "source": []
  }
 ],
 "metadata": {
  "kernelspec": {
   "display_name": "Python 3 (ipykernel)",
   "language": "python",
   "name": "python3"
  },
  "language_info": {
   "codemirror_mode": {
    "name": "ipython",
    "version": 3
   },
   "file_extension": ".py",
   "mimetype": "text/x-python",
   "name": "python",
   "nbconvert_exporter": "python",
   "pygments_lexer": "ipython3",
   "version": "3.11.2"
  }
 },
 "nbformat": 4,
 "nbformat_minor": 5
}
